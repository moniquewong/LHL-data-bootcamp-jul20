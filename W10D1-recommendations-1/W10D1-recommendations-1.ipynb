{
 "cells": [
  {
   "cell_type": "markdown",
   "metadata": {
    "slideshow": {
     "slide_type": "slide"
    }
   },
   "source": [
    "# Recommendation Engines 1\n",
    "\n",
    "### September 21 | Week 10 Day 1\n",
    "### Instructor: Monique Wong\n"
   ]
  },
  {
   "cell_type": "markdown",
   "metadata": {
    "slideshow": {
     "slide_type": "slide"
    }
   },
   "source": [
    "## Agenda\n",
    "\n",
    "1. What is a recommendation engine?\n",
    "* One technique: content-based filtering\n",
    "* Last lecture with me! Open Q&A."
   ]
  },
  {
   "cell_type": "code",
   "execution_count": 4,
   "metadata": {
    "slideshow": {
     "slide_type": "slide"
    }
   },
   "outputs": [],
   "source": [
    "import numpy as np\n",
    "import pandas as pd\n",
    "\n",
    "import sklearn\n",
    "from sklearn.neighbors import NearestNeighbors"
   ]
  },
  {
   "cell_type": "markdown",
   "metadata": {
    "slideshow": {
     "slide_type": "slide"
    }
   },
   "source": [
    "## What is a recommendation engine?\n",
    "- Also called a recommender system\n",
    "- Put simply, it's a set of algorithms that allow a machine to suggest things that you try or might like\n",
    "\n",
    "\n",
    "**Discussion**: Where do we see this in practice?"
   ]
  },
  {
   "cell_type": "markdown",
   "metadata": {
    "slideshow": {
     "slide_type": "slide"
    }
   },
   "source": [
    "## Why is this a separate topic? \n",
    "\n",
    "- It doesn't fit neatly into supervised or unsupervised learning\n",
    "- Why? \n",
    "\n",
    "### Thought experiment: what constitutes a good recommendation? "
   ]
  },
  {
   "cell_type": "markdown",
   "metadata": {
    "slideshow": {
     "slide_type": "slide"
    }
   },
   "source": [
    "## Each recommendation system has ...\n",
    "- **Users:** Purchaser of Amazon products, Netflix binge-watcher, social media subscriber...\n",
    "- **Items:** Amazon products, Netflix shows, social media posts\n",
    "\n",
    "### The basic purpose of a recommendation system is to find and recommend items that a user is most likely to be interested in."
   ]
  },
  {
   "cell_type": "markdown",
   "metadata": {
    "slideshow": {
     "slide_type": "slide"
    }
   },
   "source": [
    "## There are two techniques:\n",
    "\n",
    "1. **Content-Based Recommender:** Use knowledge of each product to recommend a similar product (Product based recommendation)\n",
    "    - E.g., customer comes in wanting to buy a computer as close to 8 GB RAM, 125 GB HDD, 6 hour battery life as possible...\n",
    "\n",
    "2. **Collaborative Filtering:** Use knowledge of user’s past purchase/selection or similar decisions by other users to recommend products (User-based recommendation).\n",
    "    - E.g., Netflix recommending shows to me based on what others who have watched similar shows to me have watched"
   ]
  },
  {
   "cell_type": "markdown",
   "metadata": {
    "slideshow": {
     "slide_type": "slide"
    }
   },
   "source": [
    "## Pros and cons\n",
    "\n",
    "| Technique | Pros | Cons |\n",
    "|:-|:---|:---|\n",
    "|**Content-Based Recommender**| Works without user reviews / behaviours | Need descriptive data for every product which is difficult to implement for large inventory of products |\n",
    "|**Collaborative Filtering** | Product knowledge not required | Can’t recommend products if no user reviews or behaviours available so difficult to make recommendations for new users|\n",
    "\n",
    "We will cover **content-based recommendations** today. Collaborative filtering is being covered tomorrow."
   ]
  },
  {
   "cell_type": "markdown",
   "metadata": {
    "slideshow": {
     "slide_type": "slide"
    }
   },
   "source": [
    "## Content-based recommendations\n",
    "\n",
    "- E.g., Customer comes in wanting to buy a computer as close to 8 GB RAM, 125 GB HDD, 6 hour battery life as possible\n",
    "- This recommendation algorithm gives us \"similar to previous products you purchased\" functionality or \"items similar to what you searched\" functionality. (What is the flaw with this?)\n",
    "\n",
    "### What do we need to make this type of recommendation?\n",
    "1. We need a **list of items** and **features that describe them** \n",
    "* We need a **definition of \"distance\"** between products "
   ]
  },
  {
   "cell_type": "markdown",
   "metadata": {
    "slideshow": {
     "slide_type": "slide"
    }
   },
   "source": [
    "## Step 1: Items and Features\n",
    "\n",
    "For movies, this can be as simple as:\n",
    "\n",
    "| Movie | Action | Comedy | Romance | Drama | Runtime | Actor 1 | Actor 2 | Actor 3| ... |\n",
    "|:-|:-|:-|:-|:-|:-|:-|:-|:-|:-|\n",
    "| Movie 1 | 1 | 0 | 0 | 0 | 123 | 1 | 0 | 1 | ... |\n",
    "| Movie 2 | 0 | 0 | 1 | 0 | 96 | 0 | 0 | 1 | ... |\n",
    "| Movie 1 | 0 | 1 | 0 | 0 | 89 | 0 | 0 | 0 | ... |\n",
    "| ... | ... | ... | ... | ... | ... | ... | ... | ... | ... |\n",
    "\n",
    "\n",
    "- It is possible that many features will need to be engineered before this begins to work well. \n",
    "- For example, you can use the synopsis of these movies to generate features using NLP... \n",
    "- You can also see how this gets computationally and memory intensive when there are a lot of items..."
   ]
  },
  {
   "cell_type": "markdown",
   "metadata": {
    "slideshow": {
     "slide_type": "slide"
    }
   },
   "source": [
    "## Step 2: Definition of distance\n",
    "\n",
    "- For this recommendation system, we're trying to find the \"closest product\"\n",
    "- We need some definition of \"closest\" \n",
    "\n",
    "### Option 1: Euclidean distance\n",
    "- We've used this before\n",
    "```\n",
    "def euclidean_distance(x, y):   \n",
    "    return np.sqrt(np.sum((x - y) ** 2))\n",
    "```\n",
    "\n",
    "### Option 2: Cosine similarity\n",
    "- Going to introduce what's more commonly used in recommender systems\n",
    "```\n",
    "def cosine_similarity(x, y):\n",
    "    return np.dot(x, y) / (np.sqrt(np.dot(x, x)) * np.sqrt(np.dot(y, y)))\n",
    "```"
   ]
  },
  {
   "cell_type": "markdown",
   "metadata": {
    "slideshow": {
     "slide_type": "slide"
    }
   },
   "source": [
    "## Euclidean distance vs. cosine similarity\n",
    "\n",
    "Visualizing the difference:\n",
    "<img src='imgs/euclidean-cosine.png' width=300>\n",
    "\n",
    "- **Euclidean distance** is $d$\n",
    "    - Magnitude of each feature ends up being measured\n",
    "- **Cosine similarity** is $\\theta$\n",
    "    - Looks at the angle between features\n",
    "    \n",
    "### Which one you use ends up being dependent on your features\n",
    "- E.g., if you're counting up how many times \"science\" is used in an article, does more instances of \"science\" mean that the article is more \"science-related\"? "
   ]
  },
  {
   "cell_type": "markdown",
   "metadata": {
    "slideshow": {
     "slide_type": "slide"
    }
   },
   "source": [
    "## Step 3: Making a recommendation\n",
    "\n",
    "Just find the closest product to the target product!\n",
    "\n",
    "\n",
    "### Quick demo using cars"
   ]
  },
  {
   "cell_type": "code",
   "execution_count": 8,
   "metadata": {
    "scrolled": true
   },
   "outputs": [
    {
     "data": {
      "text/html": [
       "<div>\n",
       "<style scoped>\n",
       "    .dataframe tbody tr th:only-of-type {\n",
       "        vertical-align: middle;\n",
       "    }\n",
       "\n",
       "    .dataframe tbody tr th {\n",
       "        vertical-align: top;\n",
       "    }\n",
       "\n",
       "    .dataframe thead th {\n",
       "        text-align: right;\n",
       "    }\n",
       "</style>\n",
       "<table border=\"1\" class=\"dataframe\">\n",
       "  <thead>\n",
       "    <tr style=\"text-align: right;\">\n",
       "      <th></th>\n",
       "      <th>car_names</th>\n",
       "      <th>mpg</th>\n",
       "      <th>cyl</th>\n",
       "      <th>disp</th>\n",
       "      <th>hp</th>\n",
       "      <th>drat</th>\n",
       "      <th>wt</th>\n",
       "      <th>qsec</th>\n",
       "      <th>vs</th>\n",
       "      <th>am</th>\n",
       "      <th>gear</th>\n",
       "      <th>carb</th>\n",
       "    </tr>\n",
       "  </thead>\n",
       "  <tbody>\n",
       "    <tr>\n",
       "      <th>0</th>\n",
       "      <td>Mazda RX4</td>\n",
       "      <td>21.0</td>\n",
       "      <td>6</td>\n",
       "      <td>160.0</td>\n",
       "      <td>110</td>\n",
       "      <td>3.90</td>\n",
       "      <td>2.620</td>\n",
       "      <td>16.46</td>\n",
       "      <td>0</td>\n",
       "      <td>1</td>\n",
       "      <td>4</td>\n",
       "      <td>4</td>\n",
       "    </tr>\n",
       "    <tr>\n",
       "      <th>1</th>\n",
       "      <td>Mazda RX4 Wag</td>\n",
       "      <td>21.0</td>\n",
       "      <td>6</td>\n",
       "      <td>160.0</td>\n",
       "      <td>110</td>\n",
       "      <td>3.90</td>\n",
       "      <td>2.875</td>\n",
       "      <td>17.02</td>\n",
       "      <td>0</td>\n",
       "      <td>1</td>\n",
       "      <td>4</td>\n",
       "      <td>4</td>\n",
       "    </tr>\n",
       "    <tr>\n",
       "      <th>2</th>\n",
       "      <td>Datsun 710</td>\n",
       "      <td>22.8</td>\n",
       "      <td>4</td>\n",
       "      <td>108.0</td>\n",
       "      <td>93</td>\n",
       "      <td>3.85</td>\n",
       "      <td>2.320</td>\n",
       "      <td>18.61</td>\n",
       "      <td>1</td>\n",
       "      <td>1</td>\n",
       "      <td>4</td>\n",
       "      <td>1</td>\n",
       "    </tr>\n",
       "    <tr>\n",
       "      <th>3</th>\n",
       "      <td>Hornet 4 Drive</td>\n",
       "      <td>21.4</td>\n",
       "      <td>6</td>\n",
       "      <td>258.0</td>\n",
       "      <td>110</td>\n",
       "      <td>3.08</td>\n",
       "      <td>3.215</td>\n",
       "      <td>19.44</td>\n",
       "      <td>1</td>\n",
       "      <td>0</td>\n",
       "      <td>3</td>\n",
       "      <td>1</td>\n",
       "    </tr>\n",
       "    <tr>\n",
       "      <th>4</th>\n",
       "      <td>Hornet Sportabout</td>\n",
       "      <td>18.7</td>\n",
       "      <td>8</td>\n",
       "      <td>360.0</td>\n",
       "      <td>175</td>\n",
       "      <td>3.15</td>\n",
       "      <td>3.440</td>\n",
       "      <td>17.02</td>\n",
       "      <td>0</td>\n",
       "      <td>0</td>\n",
       "      <td>3</td>\n",
       "      <td>2</td>\n",
       "    </tr>\n",
       "  </tbody>\n",
       "</table>\n",
       "</div>"
      ],
      "text/plain": [
       "           car_names   mpg  cyl   disp   hp  drat     wt   qsec  vs  am  gear  \\\n",
       "0          Mazda RX4  21.0    6  160.0  110  3.90  2.620  16.46   0   1     4   \n",
       "1      Mazda RX4 Wag  21.0    6  160.0  110  3.90  2.875  17.02   0   1     4   \n",
       "2         Datsun 710  22.8    4  108.0   93  3.85  2.320  18.61   1   1     4   \n",
       "3     Hornet 4 Drive  21.4    6  258.0  110  3.08  3.215  19.44   1   0     3   \n",
       "4  Hornet Sportabout  18.7    8  360.0  175  3.15  3.440  17.02   0   0     3   \n",
       "\n",
       "   carb  \n",
       "0     4  \n",
       "1     4  \n",
       "2     1  \n",
       "3     1  \n",
       "4     2  "
      ]
     },
     "execution_count": 8,
     "metadata": {},
     "output_type": "execute_result"
    }
   ],
   "source": [
    "data_url = 'https://gist.githubusercontent.com/seankross/a412dfbd88b3db70b74b/raw/5f23f993cd87c283ce766e7ac6b329ee7cc2e1d1/mtcars.csv'\n",
    "cars = pd.read_csv(data_url)\n",
    "cars.columns = ['car_names', 'mpg', 'cyl', 'disp', 'hp', 'drat', 'wt', 'qsec', 'vs', 'am', 'gear', 'carb']\n",
    "cars.head()"
   ]
  },
  {
   "cell_type": "markdown",
   "metadata": {
    "slideshow": {
     "slide_type": "slide"
    }
   },
   "source": [
    "## Using sklearn Nearest Neighbors"
   ]
  },
  {
   "cell_type": "code",
   "execution_count": 12,
   "metadata": {},
   "outputs": [
    {
     "name": "stdout",
     "output_type": "stream",
     "text": [
      "car_names    AMC Javelin\n",
      "mpg                 15.2\n",
      "cyl                    8\n",
      "disp                 304\n",
      "hp                   150\n",
      "drat                3.15\n",
      "wt                 3.435\n",
      "qsec                17.3\n",
      "vs                     0\n",
      "am                     0\n",
      "gear                   3\n",
      "carb                   2\n",
      "Name: 22, dtype: object\n"
     ]
    }
   ],
   "source": [
    "# Extract only some subset of columns to reduce computation time \n",
    "X = cars.iloc[:,[1, 3, 4, 6]].values\n",
    "\n",
    "# Looking for a car closest to the following\n",
    "t = [15, 300, 160, 3.2]\n",
    "\n",
    "#Use fit method to create model\n",
    "nbrs = NearestNeighbors(n_neighbors=1, metric='euclidean').fit(X)\n",
    "\n",
    "#Check the recommendation by your model.\n",
    "print(cars.iloc[nbrs.kneighbors([t])[1][0][0]])"
   ]
  },
  {
   "cell_type": "markdown",
   "metadata": {
    "slideshow": {
     "slide_type": "slide"
    }
   },
   "source": [
    "## Break\n",
    "\n",
    "Let's reconvene at ...\n",
    "\n",
    "### This is my last lecture with you!\n",
    "\n",
    "When we come back, I'd like to do an open Q&A for the remainder of the time. Please think of things you want to ask / discuss over the break. "
   ]
  }
 ],
 "metadata": {
  "celltoolbar": "Slideshow",
  "kernelspec": {
   "display_name": "Python 3",
   "language": "python",
   "name": "python3"
  },
  "language_info": {
   "codemirror_mode": {
    "name": "ipython",
    "version": 3
   },
   "file_extension": ".py",
   "mimetype": "text/x-python",
   "name": "python",
   "nbconvert_exporter": "python",
   "pygments_lexer": "ipython3",
   "version": "3.7.8"
  }
 },
 "nbformat": 4,
 "nbformat_minor": 4
}

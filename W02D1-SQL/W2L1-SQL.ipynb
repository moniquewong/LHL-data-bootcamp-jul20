{
 "cells": [
  {
   "cell_type": "markdown",
   "metadata": {
    "slideshow": {
     "slide_type": "slide"
    }
   },
   "source": [
    "# SQL\n",
    "\n",
    "### July 27, 2020 | Week 2 Day 1\n",
    "### Instructor: Monique Wong\n"
   ]
  },
  {
   "cell_type": "markdown",
   "metadata": {
    "slideshow": {
     "slide_type": "slide"
    }
   },
   "source": [
    "## Agenda\n",
    "1. Context and Landscape (40 mins)\n",
    "2. Break (10 mins)\n",
    "3. Writing SELECT statements (60 mins)\n",
    "    * Filtering, ordering, limiting, etc.\n",
    "    * Joining tables\n",
    "    * Grouping records\n",
    "    * Aggregate functions"
   ]
  },
  {
   "cell_type": "markdown",
   "metadata": {
    "slideshow": {
     "slide_type": "slide"
    }
   },
   "source": [
    "## Why databases?\n",
    "\n",
    "* Organized way to store data and relate data to each other\n",
    "* Enables data governance (e.g., availability, usability, integrity and security of data)\n",
    "* Efficient retrieval of structured data\n",
    "* Can store lots of data\n",
    "\n",
    "_\"A company cannot be managed with Excel spreadsheets\"_"
   ]
  },
  {
   "cell_type": "markdown",
   "metadata": {
    "slideshow": {
     "slide_type": "slide"
    }
   },
   "source": [
    "## Why SQL?\n",
    "\n",
    "* A lot of data is still stored in SQL databases\n",
    "* Structured Query Language (SQL) still the most proficient tool to investigate, filter, slice and dice your data\n",
    "\n",
    "## NoSQL databases\n",
    "* There exists NoSQL databases (e.g., MongoDB)\n",
    "* Want to learn more? https://www.mongodb.com/nosql-explained"
   ]
  },
  {
   "cell_type": "markdown",
   "metadata": {
    "slideshow": {
     "slide_type": "slide"
    }
   },
   "source": [
    "## Commonly used database schemes\n",
    "\n",
    "* How do tables in a database relate to each other?\n",
    "* There are some commonly used design principles\n",
    "* We will walk through **Star** and **Snowflake** schemes\n",
    "\n",
    "<br>\n",
    "<br>\n",
    "<br>\n",
    "\n",
    "\n",
    "**Resources:**\n",
    "* https://www.guru99.com/star-snowflake-data-warehousing.html\n",
    "* https://en.wikipedia.org/wiki/Snowflake_schema\n",
    "* https://en.wikipedia.org/wiki/Star_schema"
   ]
  },
  {
   "cell_type": "markdown",
   "metadata": {
    "slideshow": {
     "slide_type": "slide"
    }
   },
   "source": [
    "### Star Schema\n",
    "\n",
    "<img src=\"star-schema.png\" width=300>\n",
    "\n",
    "* Every dimension represented by only one dimension table\n",
    "* Dimension table contains set of attributes\n",
    "* Dimension tables are joined to the fact table using a foreign key\n",
    "* Dimension tables **are not** joined to each other\n",
    "* Fact table contains key and measure"
   ]
  },
  {
   "cell_type": "markdown",
   "metadata": {
    "slideshow": {
     "slide_type": "slide"
    }
   },
   "source": [
    "### Snowflake Schema\n",
    "\n",
    "<img src=\"snowflake-schema.png\" width=700>\n",
    "\n",
    "* Extension of the star schema by adding extra dimensions\n",
    "* Dimension tables are \"normalized\", splitting data into additional tables\n",
    "* What does it mean to [normalize data](https://docs.microsoft.com/en-us/office/troubleshoot/access/database-normalization-description#:~:text=Normalization%20is%20the%20process%20of,eliminating%20redundancy%20and%20inconsistent%20dependency.)?"
   ]
  },
  {
   "cell_type": "markdown",
   "metadata": {
    "slideshow": {
     "slide_type": "slide"
    }
   },
   "source": [
    "## Schema comparison\n",
    "\n",
    "**Star schema:**\n",
    "* Easy to understand\n",
    "* Dimension tables are not normalized - country ID does not have country lookup table\n",
    "* Widely supported by BI tools\n",
    "\n",
    "**Snowflake schema:**\n",
    "* Easy to implement and \"grow\"\n",
    "* Lower query performance with multiple tables\n",
    "* More difficult to maintain with more lookup tables\n"
   ]
  },
  {
   "cell_type": "markdown",
   "metadata": {
    "slideshow": {
     "slide_type": "slide"
    }
   },
   "source": [
    "## RDBMS Landscape\n",
    "\n",
    "\n",
    "<img src=\"rdbms.png\" width=400>\n",
    "\n",
    "* Relational Database Management System\n",
    "* Software system that enables users to define, create, maintain and control access to the database\n",
    "* Many, many, many vendors"
   ]
  },
  {
   "cell_type": "markdown",
   "metadata": {
    "slideshow": {
     "slide_type": "slide"
    }
   },
   "source": [
    "### RDBMS Vendors\n",
    "\n",
    "* **Closed source** (i.e., you have to pay)\n",
    "    * Vendors: Oracle, SQL Server (Microsoft), IBM DB2, Microsoft Access - local small databases\n",
    "    * Could come with integrations and services that make things easier  \n",
    "    \n",
    "<br>\n",
    "\n",
    "* **Open source** (i.e., free)\n",
    "    * MySQL, PostgreSQL, SQLite, MariaDB\n",
    "    * Good developer community makes these great options\n",
    "    * [This website](https://www.digitalocean.com/community/tutorials/sqlite-vs-mysql-vs-postgresql-a-comparison-of-relational-database-management-systems#:~:text=SQLite%20is%20a%20self%2Dcontained,even%20in%20low%2Dmemory%20environments.) offers a good comparison of open source systems options."
   ]
  },
  {
   "cell_type": "markdown",
   "metadata": {
    "slideshow": {
     "slide_type": "slide"
    }
   },
   "source": [
    "## Why SQLite?\n",
    "\n",
    "* Not directly comparable to client/server SQL database engines such as MySQL, Oracle, PostgreSQL, or SQL Server\n",
    "* Used as on-disk file format for desktop applications\n",
    "* Great to learn on to get a hang of SQL\n",
    "\n",
    "For more information: https://www.sqlite.org/whentouse.html"
   ]
  },
  {
   "cell_type": "markdown",
   "metadata": {
    "slideshow": {
     "slide_type": "slide"
    }
   },
   "source": [
    "## Why PostGres? \n",
    "\n",
    "* Created by scientists from the University of California at Berkeley\n",
    "* Open source nature makes it easy to upgrade or extend\n",
    "* High compliance to the SQL standard\n",
    "* Offers its users a huge (and growing) number of functions allowing programmers to create new applications, better protect data integrity, and developers build resilient and secure environments\n",
    "* Can easily run it on Windows, Mac OS X, and almost all Linux and Unix distributions\n",
    "* MySQL would be a good choice too\n",
    "* We use will use `psql`\n"
   ]
  },
  {
   "cell_type": "markdown",
   "metadata": {
    "slideshow": {
     "slide_type": "slide"
    }
   },
   "source": [
    "## Make sure everyone is set up before break...\n",
    "\n",
    "1. Install PostGreSQL: https://www.datacamp.com/community/tutorials/installing-postgresql-windows-macosx\n",
    "* From your terminal: `pip install psycopg2`\n",
    "* Open a jupyter notebook and run `import psycopg2`to make sure it works \n",
    "\n",
    "To get a database going: \n",
    "1. Open pgsql shell\n",
    "* Log in (should be all \"enter\" if you left it at default)\n",
    "* Set a password (REMEMBER THIS!)\n",
    "* `\\l` to see what databases already exist\n",
    "* `CREATE DATABASE drinks`\n",
    "* `\\l` to see that it was created"
   ]
  },
  {
   "cell_type": "markdown",
   "metadata": {
    "slideshow": {
     "slide_type": "slide"
    }
   },
   "source": [
    "To write to a database:\n",
    "\n",
    "(You will need the `drinks.sql` file in the same directory as this notebook)"
   ]
  },
  {
   "cell_type": "code",
   "execution_count": null,
   "metadata": {},
   "outputs": [],
   "source": [
    "import os\n",
    "import psycopg2\n",
    "\n",
    "postgres_pwd = os.environ.get('POSTGRES_PWD') # This is the password you entered when you set up PGSQL\n",
    "\n",
    "con = psycopg2.connect(database='drinks', user='postgres', password=postgres_pwd,\n",
    "                       host='127.0.0.1', port='5432')  # This should work if you left everything as default\n",
    "\n",
    "cur = con.cursor()\n",
    "\n",
    "cur.execute(open('drinks.sql', 'r').read())"
   ]
  },
  {
   "cell_type": "markdown",
   "metadata": {
    "slideshow": {
     "slide_type": "slide"
    }
   },
   "source": [
    "# Break\n",
    "\n",
    "- Take 10 minutes, come back at ...\n"
   ]
  },
  {
   "cell_type": "markdown",
   "metadata": {
    "slideshow": {
     "slide_type": "slide"
    }
   },
   "source": [
    "## Demo\n",
    "* Show you how to query data from a database\n",
    "* Statements that start with `SELECT`"
   ]
  },
  {
   "cell_type": "markdown",
   "metadata": {
    "slideshow": {
     "slide_type": "slide"
    }
   },
   "source": [
    "## Intro to the sample database we're using\n",
    "\n",
    "### Drinks!!!\n",
    "\n",
    "Database schema:\n",
    "\n",
    "* has_on_menu(<em><ins>bar</ins></em>: string, <em><ins>drink_id</ins></em>: string, <em><ins>price</ins></em>: real)\n",
    "\n",
    "\n",
    "* orders(<em><ins>person</ins></em>: string, <em><ins>date</ins></em>: string, bar, <em><ins>drink_id</ins></em>: string, quantity: integer)\n",
    "\n",
    "\n",
    "* drink_info(<em><ins>drink_id</ins></em>: string, <em><ins>type</ins></em>: string)\n",
    "\n",
    "The `drink_info` relation specifies for each `drink_id` what type of drink it is, e.g., beer, wine, etc."
   ]
  },
  {
   "cell_type": "markdown",
   "metadata": {
    "slideshow": {
     "slide_type": "slide"
    }
   },
   "source": [
    "## Setting up the connection to our database"
   ]
  },
  {
   "cell_type": "code",
   "execution_count": 1,
   "metadata": {
    "slideshow": {
     "slide_type": "-"
    }
   },
   "outputs": [],
   "source": [
    "# make necessary imports and set up environmental variables\n",
    "import os\n",
    "import psycopg2\n",
    "import pandas as pd\n",
    "\n",
    "postgres_pwd = os.environ.get('POSTGRES_PWD')"
   ]
  },
  {
   "cell_type": "code",
   "execution_count": 2,
   "metadata": {},
   "outputs": [],
   "source": [
    "# connect to the database\n",
    "con = psycopg2.connect(database='drinks', user='postgres', password=postgres_pwd,\n",
    "                       host='127.0.0.1', port='5432')\n",
    "\n",
    "query = con.cursor()"
   ]
  },
  {
   "cell_type": "markdown",
   "metadata": {
    "slideshow": {
     "slide_type": "slide"
    }
   },
   "source": [
    "## Executing our first query\n",
    "\n",
    "Get the first 5 rows from orders"
   ]
  },
  {
   "cell_type": "code",
   "execution_count": 3,
   "metadata": {
    "slideshow": {
     "slide_type": "-"
    }
   },
   "outputs": [
    {
     "name": "stdout",
     "output_type": "stream",
     "text": [
      "('person 1', '2016-10-16', 'bar 9', 'drink 4', 1)\n",
      "('person 1', '2016-10-16', 'bar 9', 'drink 44', 1)\n",
      "('person 1', '2016-10-22', 'bar 19', 'drink 1', 4)\n",
      "('person 1', '2016-10-22', 'bar 19', 'drink 9', 1)\n",
      "('person 1', '2016-10-22', 'bar 19', 'drink 42', 2)\n"
     ]
    }
   ],
   "source": [
    "# execute a simple query\n",
    "query.execute(\n",
    "\"\"\"\n",
    "SELECT *\n",
    "FROM orders\n",
    "LIMIT 5;\n",
    "\"\"\")\n",
    "\n",
    "response = query.fetchall()\n",
    "\n",
    "for row in response:\n",
    "    print(row)"
   ]
  },
  {
   "cell_type": "markdown",
   "metadata": {
    "slideshow": {
     "slide_type": "slide"
    }
   },
   "source": [
    "An easier way to see the data..."
   ]
  },
  {
   "cell_type": "code",
   "execution_count": null,
   "metadata": {
    "scrolled": true
   },
   "outputs": [],
   "source": [
    "pd.DataFrame(response)"
   ]
  },
  {
   "cell_type": "markdown",
   "metadata": {
    "slideshow": {
     "slide_type": "slide"
    }
   },
   "source": [
    "## Quick recap for SQL\n",
    "\n",
    "The basic format is\n",
    "<img src='select-statement.png' width=300>\n",
    "\n",
    "What would the following tell us with our database?\n",
    "```\n",
    "SELECT *\n",
    "FROM orders\n",
    "WHERE bar='bar 9'\n",
    "```\n",
    "\n",
    "---\n",
    "Reminder - our database:\n",
    "\n",
    "<img src='our-db.png' width=400 align='left'>"
   ]
  },
  {
   "cell_type": "markdown",
   "metadata": {
    "slideshow": {
     "slide_type": "slide"
    }
   },
   "source": [
    "## Other commands\n",
    "\n",
    "Use a cheat sheet!\n",
    "<img src='sql-cheat-sheet.png' width=700>"
   ]
  },
  {
   "cell_type": "markdown",
   "metadata": {
    "slideshow": {
     "slide_type": "slide"
    }
   },
   "source": [
    "## More on joins\n",
    "\n",
    "- `(INNER) JOIN`: Returns records that have matching values in both tables\n",
    "- `LEFT (OUTER) JOIN`: Returns all records from the left table, and the matched records from the right table\n",
    "- `RIGHT (OUTER) JOIN`: Returns all records from the right table, and the matched records from the left table\n",
    "- `FULL (OUTER) JOIN`: Returns all records when there is a match in either left or right table\n",
    "\n",
    "<img src='joins.png'>"
   ]
  },
  {
   "cell_type": "markdown",
   "metadata": {
    "slideshow": {
     "slide_type": "slide"
    }
   },
   "source": [
    "## Let's work through some problems\n",
    "\n",
    "### Question 1:\n",
    "Get the bar name and average price of each bar\n",
    "\n",
    "What do you think? What table do we need? What calculation do we need?\n",
    "\n",
    "---\n",
    "Reminder - our database:\n",
    "\n",
    "<img src='our-db.png' width=400 align='left'>"
   ]
  },
  {
   "cell_type": "code",
   "execution_count": null,
   "metadata": {
    "slideshow": {
     "slide_type": "subslide"
    }
   },
   "outputs": [],
   "source": [
    "query.execute(\n",
    "\"\"\"\n",
    "SELECT bar, AVG(price) AS avg_price\n",
    "FROM has_on_menu\n",
    "GROUP BY bar\n",
    "\"\"\")\n",
    "\n",
    "response = query.fetchall()\n",
    "\n",
    "pd.DataFrame(response)"
   ]
  },
  {
   "cell_type": "markdown",
   "metadata": {
    "slideshow": {
     "slide_type": "slide"
    }
   },
   "source": [
    "### Question 2:\n",
    "Get the bars with the top 5 average prices.\n",
    "\n",
    "What do you think? How can we adapt the code we did before?\n",
    "\n",
    "---\n",
    "Reminder - our database:\n",
    "\n",
    "<img src='our-db.png' width=400 align='left'>"
   ]
  },
  {
   "cell_type": "code",
   "execution_count": null,
   "metadata": {
    "scrolled": true,
    "slideshow": {
     "slide_type": "subslide"
    }
   },
   "outputs": [],
   "source": [
    "query.execute(\n",
    "\"\"\"\n",
    "SELECT bar, AVG(price) AS avg_price\n",
    "FROM has_on_menu\n",
    "GROUP BY bar\n",
    "ORDER BY avg_price DESC\n",
    "LIMIT 5\n",
    "\"\"\")\n",
    "\n",
    "response = query.fetchall()\n",
    "\n",
    "pd.DataFrame(response)"
   ]
  },
  {
   "cell_type": "markdown",
   "metadata": {
    "slideshow": {
     "slide_type": "slide"
    }
   },
   "source": [
    "### Question 3:\n",
    "Which bar sells the cheapest drink? Which drink and what's the price?\n",
    "\n",
    "---\n",
    "Reminder - our database:\n",
    "\n",
    "<img src='our-db.png' width=400 align='left'>"
   ]
  },
  {
   "cell_type": "code",
   "execution_count": null,
   "metadata": {
    "slideshow": {
     "slide_type": "subslide"
    }
   },
   "outputs": [],
   "source": [
    "query.execute(\n",
    "\"\"\"\n",
    "SELECT bar, drink_id, price\n",
    "FROM has_on_menu\n",
    "ORDER BY price ASC\n",
    "LIMIT 1;\n",
    "\"\"\")\n",
    "\n",
    "response = query.fetchall()\n",
    "\n",
    "pd.DataFrame(response)"
   ]
  },
  {
   "cell_type": "markdown",
   "metadata": {
    "slideshow": {
     "slide_type": "slide"
    }
   },
   "source": [
    "### Question 4:\n",
    "What is the number of beers sold by each bar?\n",
    "\n",
    "Hint: you need two tables here\n",
    "\n",
    "---\n",
    "Reminder - our database:\n",
    "\n",
    "<img src='our-db.png' width=400 align='left'>"
   ]
  },
  {
   "cell_type": "code",
   "execution_count": null,
   "metadata": {
    "scrolled": true,
    "slideshow": {
     "slide_type": "subslide"
    }
   },
   "outputs": [],
   "source": [
    "query.execute(\n",
    "\"\"\"\n",
    "SELECT o.bar, SUM(o.quantity) total_beer\n",
    "    FROM orders o, drink_info d\n",
    "    WHERE o.drink_id = d.drink_id \n",
    "        AND d.type = 'beer'\n",
    "    GROUP BY bar\n",
    "    ORDER BY total_beer;\n",
    "\"\"\")\n",
    "\n",
    "response = query.fetchall()\n",
    "\n",
    "pd.DataFrame(response)"
   ]
  },
  {
   "cell_type": "markdown",
   "metadata": {
    "slideshow": {
     "slide_type": "slide"
    }
   },
   "source": [
    "### Challenge question\n",
    "\n",
    "For each person, find the bar they visit, and the type(s) and price(s) of the drink(s) they drink during those visits.\n",
    "\n",
    "---\n",
    "Reminder - our database:\n",
    "\n",
    "<img src='our-db.png' width=400 align='left'>"
   ]
  },
  {
   "cell_type": "code",
   "execution_count": null,
   "metadata": {
    "slideshow": {
     "slide_type": "subslide"
    }
   },
   "outputs": [],
   "source": [
    "query.execute(\n",
    "\"\"\"\n",
    "SELECT o.person, o.bar, d.type, h.price\n",
    "    FROM orders o\n",
    "    JOIN has_on_menu h ON (o.drink_id = h.drink_id AND o.bar = h.bar) \n",
    "    JOIN drink_info d ON o.drink_id = d.drink_id;\n",
    "\"\"\")\n",
    "\n",
    "response = query.fetchall()\n",
    "\n",
    "pd.DataFrame(response)"
   ]
  },
  {
   "cell_type": "markdown",
   "metadata": {
    "slideshow": {
     "slide_type": "slide"
    }
   },
   "source": [
    "### Making sure we close off the connection"
   ]
  },
  {
   "cell_type": "code",
   "execution_count": null,
   "metadata": {
    "slideshow": {
     "slide_type": "-"
    }
   },
   "outputs": [],
   "source": [
    "query.close()"
   ]
  },
  {
   "cell_type": "code",
   "execution_count": null,
   "metadata": {},
   "outputs": [],
   "source": []
  },
  {
   "cell_type": "markdown",
   "metadata": {
    "slideshow": {
     "slide_type": "slide"
    }
   },
   "source": [
    "## Additional resoures\n",
    "\n",
    "* What does it mean to [normalize data](https://docs.microsoft.com/en-us/office/troubleshoot/access/database-normalization-description#:~:text=Normalization%20is%20the%20process%20of,eliminating%20redundancy%20and%20inconsistent%20dependency.)? "
   ]
  }
 ],
 "metadata": {
  "celltoolbar": "Slideshow",
  "kernelspec": {
   "display_name": "Python 3",
   "language": "python",
   "name": "python3"
  },
  "language_info": {
   "codemirror_mode": {
    "name": "ipython",
    "version": 3
   },
   "file_extension": ".py",
   "mimetype": "text/x-python",
   "name": "python",
   "nbconvert_exporter": "python",
   "pygments_lexer": "ipython3",
   "version": "3.7.0"
  }
 },
 "nbformat": 4,
 "nbformat_minor": 4
}

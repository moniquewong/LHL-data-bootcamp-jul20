{
 "cells": [
  {
   "cell_type": "markdown",
   "metadata": {
    "slideshow": {
     "slide_type": "slide"
    }
   },
   "source": [
    "# APIs - Getting data for data science\n",
    "\n",
    "### July 22, 2020 | Week 1 Day 3\n",
    "### Instructor: Monique Wong\n"
   ]
  },
  {
   "cell_type": "markdown",
   "metadata": {
    "slideshow": {
     "slide_type": "slide"
    }
   },
   "source": [
    "## Agenda\n",
    "1. Hello and intros (10 mins)\n",
    "2. API Background and Examples (50 min)\n",
    "3. HTTP Requests (10 min)\n",
    "4. Break (10 min)\n",
    "5. Demo\n",
    "    - Terminal (10 min)\n",
    "    - Postman (10 min)\n",
    "    - Python (15 min)\n",
    "6. Questions, practice, discussion (remaining time)"
   ]
  },
  {
   "cell_type": "markdown",
   "metadata": {
    "slideshow": {
     "slide_type": "slide"
    }
   },
   "source": [
    "## What is an API?\n",
    "- Application Programming Interface\n",
    "- Allow 2 computers to communicate with each other and exchange information\n",
    "- Best way to understand is to see examples"
   ]
  },
  {
   "cell_type": "markdown",
   "metadata": {
    "slideshow": {
     "slide_type": "slide"
    }
   },
   "source": [
    "## Some examples\n",
    "- Let's look at the documentation for some APIs\n",
    "- We can access some information from our browsers to begin with\n",
    "\n",
    "- Examples:\n",
    "    - Translink API: https://developer.translink.ca/\n",
    "    - GitHub API: https://developer.github.com/v3/\n",
    "    - Weather API: https://openweathermap.org/api\n",
    "    - Stock price API (Alpha Vantage): https://www.alphavantage.co/\n",
    "- Many, many, many others!"
   ]
  },
  {
   "cell_type": "markdown",
   "metadata": {
    "slideshow": {
     "slide_type": "slide"
    }
   },
   "source": [
    "## Find some examples for yourself!\n",
    "- 10 minutes\n",
    "- Find a link, explain what data you can get, what you can use the data for\n",
    "- Post this in Slack"
   ]
  },
  {
   "cell_type": "markdown",
   "metadata": {
    "slideshow": {
     "slide_type": "slide"
    }
   },
   "source": [
    "## All APIs need...\n",
    "\n",
    "```\n",
    "https://api.translink.ca/rttiapi/v1/stops?apikey=YOURKEYHERE&lat=49.187706&long=-122.850060\n",
    "```\n",
    "\n",
    "- A API key (registration and authentication)\n",
    "- Parameter keys\n",
    "- Parameter values\n",
    "- Output: JSON, XML, or csv, usually JSON"
   ]
  },
  {
   "cell_type": "markdown",
   "metadata": {
    "slideshow": {
     "slide_type": "slide"
    }
   },
   "source": [
    "## What is JSON?\n",
    "- JavaScript Object Notation\n",
    "- Not only used in JavaScript\n",
    "- Example:\n",
    "\n",
    "```\n",
    "{ \"name\":\"John\", \n",
    "  \"age\":30, \n",
    "  \"car\":null, \n",
    "  \"transit_history\": {\"monday\": true,\n",
    "                      \"tuesday\": false,\n",
    "                      \"wednesday\": true,\n",
    "                      \"thursday\": true,\n",
    "                      \"friday\": false,\n",
    "                      \"saturday\": true,\n",
    "                      \"sunday\": true} \n",
    " }\n",
    "```"
   ]
  },
  {
   "cell_type": "markdown",
   "metadata": {
    "slideshow": {
     "slide_type": "slide"
    }
   },
   "source": [
    "## Pick an API and get some information\n",
    "- 10 minutes\n",
    "- Pick an API, either one from my list or from one you found\n",
    "- Get an access token\n",
    "- Play around with the parameters to get information\n",
    "- Share what you found in Slack"
   ]
  },
  {
   "cell_type": "markdown",
   "metadata": {
    "slideshow": {
     "slide_type": "slide"
    }
   },
   "source": [
    "## HTTP Requests\n",
    "- Hypertext Transfer Protocol\n",
    "\n",
    "- When you access a website (through an URL), you are:\n",
    "    - \"sending a HTTP GET request to the server to retrieve data\"\n",
    "    - \"data\" can be a webpage that is displayed, it can be JSON\n"
   ]
  },
  {
   "cell_type": "markdown",
   "metadata": {
    "slideshow": {
     "slide_type": "slide"
    }
   },
   "source": [
    "- When you access a website, you know it worked if it loaded\n",
    "    - Status codes are helpful when you're working with code\n",
    "\n",
    "- Common HTTP status codes:\n",
    "    - 200 OK\n",
    "    - 400 Bad Request\n",
    "    - 401 Unauthorized\n",
    "    - 404 Not Found"
   ]
  },
  {
   "cell_type": "markdown",
   "metadata": {
    "slideshow": {
     "slide_type": "slide"
    }
   },
   "source": [
    "## Break\n",
    "\n",
    "Come back at 11:00am\n",
    "\n",
    "If you haven't already, download Postman: https://www.postman.com/"
   ]
  },
  {
   "cell_type": "markdown",
   "metadata": {
    "slideshow": {
     "slide_type": "slide"
    }
   },
   "source": [
    "## Demo\n",
    "1. Postman\n",
    "2. Terminal\n",
    "3. Python"
   ]
  },
  {
   "cell_type": "markdown",
   "metadata": {},
   "source": [
    "## Postman\n",
    "- Get it here: https://www.postman.com/\n",
    "- Easy to use GUI which stores your API key, parameter keys etc.\n",
    "\n",
    "Show with Translink example"
   ]
  },
  {
   "cell_type": "markdown",
   "metadata": {},
   "source": [
    "## Terminal\n",
    "\n",
    "```\n",
    "curl https://api.translink.ca/rttiapi/v1/stops/55612?apikey=YOURAPIKEY\n",
    "```\n",
    "\n",
    "Want to understand `curl` more?\n",
    "- Check this out: https://idratherbewriting.com/learnapidoc/docapis_understand_curl.html\n",
    "\n",
    "**Best Practice:**\n",
    "    \n",
    "Setting an environmental variable:\n",
    "```\n",
    "export TRANSLINK_API=YOURAPIKEY\n",
    "```\n",
    "\n",
    "To check an environmental variable has been set:\n",
    "```\n",
    "echo $TRANSLINK_API\n",
    "```\n",
    "\n",
    "\n",
    "Then, I can use:\n",
    "```\n",
    "curl https://api.translink.ca/rttiapi/v1/stops/55612?apikey=$TRANSLINK_API\n",
    "```\n"
   ]
  },
  {
   "cell_type": "markdown",
   "metadata": {},
   "source": [
    "# Python"
   ]
  },
  {
   "cell_type": "code",
   "execution_count": 10,
   "metadata": {},
   "outputs": [],
   "source": [
    "# conda install -c anaconda requests\n",
    "# pip install requests\n",
    "\n",
    "import requests     # to get HTTP request\n",
    "import os           # to use environmental variables\n",
    "\n",
    "apikey = os.environ.get('TRANSLINK_API')\n",
    "# print(apikey)     # to check that environmental variable has been loaded"
   ]
  },
  {
   "cell_type": "code",
   "execution_count": 9,
   "metadata": {},
   "outputs": [
    {
     "data": {
      "text/plain": [
       "{'StopNo': 61935,\n",
       " 'Name': 'UBC EXCHANGE BAY 7 ',\n",
       " 'BayNo': '4',\n",
       " 'City': 'VANCOUVER',\n",
       " 'OnStreet': 'UBC EXCHANGE',\n",
       " 'AtStreet': 'BAY 7',\n",
       " 'Latitude': 49.267419,\n",
       " 'Longitude': -123.246831,\n",
       " 'WheelchairAccess': 1,\n",
       " 'Distance': -1,\n",
       " 'Routes': '099'}"
      ]
     },
     "execution_count": 9,
     "metadata": {},
     "output_type": "execute_result"
    }
   ],
   "source": [
    "# example 1\n",
    "requests.get('http://api.translink.ca/rttiapi/v1/stops/61935?apikey={}'.format(apikey), \n",
    "             headers={'accept': 'application/JSON'}).json()"
   ]
  },
  {
   "cell_type": "code",
   "execution_count": 11,
   "metadata": {},
   "outputs": [
    {
     "data": {
      "text/plain": [
       "[{'RouteNo': '099',\n",
       "  'RouteName': 'COMMERCIAL-BROADWAY/UBC (B-LINE)',\n",
       "  'Direction': 'EAST',\n",
       "  'RouteMap': {'Href': 'https://nb.translink.ca/geodata/099.kmz'},\n",
       "  'Schedules': [{'Pattern': 'E1',\n",
       "    'Destination': \"COMM'L-BDWAY STN\",\n",
       "    'ExpectedLeaveTime': '6:46pm 2020-07-08',\n",
       "    'ExpectedCountdown': -2,\n",
       "    'ScheduleStatus': ' ',\n",
       "    'CancelledTrip': False,\n",
       "    'CancelledStop': False,\n",
       "    'AddedTrip': False,\n",
       "    'AddedStop': False,\n",
       "    'LastUpdate': '06:47:07 pm'},\n",
       "   {'Pattern': 'E1',\n",
       "    'Destination': \"COMM'L-BDWAY STN\",\n",
       "    'ExpectedLeaveTime': '6:51pm 2020-07-08',\n",
       "    'ExpectedCountdown': 3,\n",
       "    'ScheduleStatus': '*',\n",
       "    'CancelledTrip': False,\n",
       "    'CancelledStop': False,\n",
       "    'AddedTrip': False,\n",
       "    'AddedStop': False,\n",
       "    'LastUpdate': '05:51:08 pm'},\n",
       "   {'Pattern': 'E8FL2',\n",
       "    'Destination': 'TO BOUNDARY B-LINE',\n",
       "    'ExpectedLeaveTime': '6:56pm 2020-07-08',\n",
       "    'ExpectedCountdown': 8,\n",
       "    'ScheduleStatus': ' ',\n",
       "    'CancelledTrip': False,\n",
       "    'CancelledStop': False,\n",
       "    'AddedTrip': False,\n",
       "    'AddedStop': False,\n",
       "    'LastUpdate': '05:56:00 pm'},\n",
       "   {'Pattern': 'E1',\n",
       "    'Destination': \"COMM'L-BDWAY STN\",\n",
       "    'ExpectedLeaveTime': '7:01pm 2020-07-08',\n",
       "    'ExpectedCountdown': 13,\n",
       "    'ScheduleStatus': '*',\n",
       "    'CancelledTrip': False,\n",
       "    'CancelledStop': False,\n",
       "    'AddedTrip': False,\n",
       "    'AddedStop': False,\n",
       "    'LastUpdate': '06:01:10 pm'},\n",
       "   {'Pattern': 'E1',\n",
       "    'Destination': \"COMM'L-BDWAY STN\",\n",
       "    'ExpectedLeaveTime': '7:06pm 2020-07-08',\n",
       "    'ExpectedCountdown': 18,\n",
       "    'ScheduleStatus': '*',\n",
       "    'CancelledTrip': True,\n",
       "    'CancelledStop': False,\n",
       "    'AddedTrip': False,\n",
       "    'AddedStop': False,\n",
       "    'LastUpdate': '06:06:12 pm'},\n",
       "   {'Pattern': 'E8FL2',\n",
       "    'Destination': 'TO BOUNDARY B-LINE',\n",
       "    'ExpectedLeaveTime': '7:11pm 2020-07-08',\n",
       "    'ExpectedCountdown': 23,\n",
       "    'ScheduleStatus': '*',\n",
       "    'CancelledTrip': False,\n",
       "    'CancelledStop': False,\n",
       "    'AddedTrip': False,\n",
       "    'AddedStop': False,\n",
       "    'LastUpdate': '06:11:16 pm'}]}]"
      ]
     },
     "execution_count": 11,
     "metadata": {},
     "output_type": "execute_result"
    }
   ],
   "source": [
    "# example 2\n",
    "requests.get('http://api.translink.ca/rttiapi/v1/stops/61935/estimates?apikey={}'.format(apikey),\n",
    "             headers={'accept': 'application/JSON'}).json()"
   ]
  }
 ],
 "metadata": {
  "celltoolbar": "Slideshow",
  "kernelspec": {
   "display_name": "Python 3",
   "language": "python",
   "name": "python3"
  },
  "language_info": {
   "codemirror_mode": {
    "name": "ipython",
    "version": 3
   },
   "file_extension": ".py",
   "mimetype": "text/x-python",
   "name": "python",
   "nbconvert_exporter": "python",
   "pygments_lexer": "ipython3",
   "version": "3.7.0"
  }
 },
 "nbformat": 4,
 "nbformat_minor": 4
}

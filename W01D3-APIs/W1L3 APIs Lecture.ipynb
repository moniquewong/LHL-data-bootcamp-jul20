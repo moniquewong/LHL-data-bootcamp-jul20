{
 "cells": [
  {
   "cell_type": "markdown",
   "metadata": {
    "slideshow": {
     "slide_type": "slide"
    }
   },
   "source": [
    "# APIs - Getting data for data science\n",
    "\n",
    "### July 22, 2020 | Week 1 Day 3\n",
    "### Instructor: Monique Wong\n"
   ]
  },
  {
   "cell_type": "markdown",
   "metadata": {
    "slideshow": {
     "slide_type": "slide"
    }
   },
   "source": [
    "## Agenda\n",
    "1. Hello and intros (10 mins)\n",
    "2. API Background and Examples (50 min)\n",
    "3. HTTP Requests (10 min)\n",
    "4. Break (10 min)\n",
    "5. Demo\n",
    "    - Terminal (10 min)\n",
    "    - Postman (10 min)\n",
    "    - Python (15 min)\n",
    "6. Questions, practice, discussion (remaining time)"
   ]
  },
  {
   "cell_type": "markdown",
   "metadata": {
    "slideshow": {
     "slide_type": "slide"
    }
   },
   "source": [
    "## What is an API?\n",
    "- Application Programming Interface\n",
    "- Allow 2 computers to communicate with each other and exchange information\n",
    "- Best way to understand is to see examples"
   ]
  },
  {
   "cell_type": "markdown",
   "metadata": {
    "slideshow": {
     "slide_type": "slide"
    }
   },
   "source": [
    "## Some examples\n",
    "- Let's look at the documentation for some APIs\n",
    "- We can access some information from our browsers to begin with\n",
    "\n",
    "- Examples:\n",
    "    - Translink API: https://developer.translink.ca/\n",
    "    - GitHub API: https://developer.github.com/v3/\n",
    "    - Weather API: https://openweathermap.org/api\n",
    "    - Stock price API (Alpha Vantage): https://www.alphavantage.co/\n",
    "- Many, many, many others!"
   ]
  },
  {
   "cell_type": "markdown",
   "metadata": {
    "slideshow": {
     "slide_type": "slide"
    }
   },
   "source": [
    "## Find some examples for yourself!\n",
    "- Don't be afraid of documentation!\n",
    "- 10 minutes\n",
    "- Find a link, explain what data you can get, what you can use the data for\n",
    "- Post this in Slack"
   ]
  },
  {
   "cell_type": "markdown",
   "metadata": {
    "slideshow": {
     "slide_type": "slide"
    }
   },
   "source": [
    "## All APIs need...\n",
    "\n",
    "```\n",
    "https://api.translink.ca/rttiapi/v1/stops?apikey=YOURKEYHERE&lat=49.187706&long=-122.850060\n",
    "```\n",
    "\n",
    "- API key (registration and authentication)\n",
    "- Parameter keys\n",
    "- Parameter values\n",
    "- Output: JSON, XML, or csv, usually JSON"
   ]
  },
  {
   "cell_type": "markdown",
   "metadata": {
    "slideshow": {
     "slide_type": "slide"
    }
   },
   "source": [
    "## What is JSON?\n",
    "- JavaScript Object Notation\n",
    "- Not only used in JavaScript\n",
    "- Example:\n",
    "\n",
    "```\n",
    "{ \"name\":\"John\", \n",
    "  \"age\":30, \n",
    "  \"car\":null, \n",
    "  \"transit_history\": {\"monday\": true,\n",
    "                      \"tuesday\": false,\n",
    "                      \"wednesday\": true,\n",
    "                      \"thursday\": true,\n",
    "                      \"friday\": false,\n",
    "                      \"saturday\": true,\n",
    "                      \"sunday\": true} \n",
    " }\n",
    "```"
   ]
  },
  {
   "cell_type": "markdown",
   "metadata": {
    "slideshow": {
     "slide_type": "slide"
    }
   },
   "source": [
    "## Pick an API and get some information\n",
    "- 10 minutes\n",
    "- Pick an API, either one from my list or from one you found\n",
    "- Get an access token\n",
    "- Play around with the parameters to get information\n",
    "- Share what you found in Slack"
   ]
  },
  {
   "cell_type": "markdown",
   "metadata": {
    "slideshow": {
     "slide_type": "slide"
    }
   },
   "source": [
    "## HTTP Requests\n",
    "- Hypertext Transfer Protocol\n",
    "\n",
    "- When you access a website (through an URL), you are:\n",
    "    - \"sending a HTTP GET request to the server to retrieve data\"\n",
    "    - \"data\" can be a webpage that is displayed, it can be JSON\n"
   ]
  },
  {
   "cell_type": "markdown",
   "metadata": {
    "slideshow": {
     "slide_type": "slide"
    }
   },
   "source": [
    "- When you access a website, you know it worked if it loaded\n",
    "    - Status codes are helpful when you're working with code\n",
    "\n",
    "- Common HTTP status codes:\n",
    "    - 200 OK\n",
    "    - 400 Bad Request\n",
    "    - 401 Unauthorized\n",
    "    - 404 Not Found"
   ]
  },
  {
   "cell_type": "markdown",
   "metadata": {
    "slideshow": {
     "slide_type": "slide"
    }
   },
   "source": [
    "## Break\n",
    "\n",
    "Come back at 11:15am PT\n",
    "\n",
    "You can also work on Activity 2 and continue to post in Slack\n",
    "\n",
    "If you haven't already, download Postman: https://www.postman.com/"
   ]
  },
  {
   "cell_type": "markdown",
   "metadata": {
    "slideshow": {
     "slide_type": "slide"
    }
   },
   "source": [
    "## Demo\n",
    "1. Postman\n",
    "2. Terminal\n",
    "3. Python"
   ]
  },
  {
   "cell_type": "markdown",
   "metadata": {
    "slideshow": {
     "slide_type": "slide"
    }
   },
   "source": [
    "## Postman\n",
    "- Get it here: https://www.postman.com/\n",
    "- Easy to use GUI which stores your API key, parameter keys etc.\n",
    "\n",
    "Show with Translink example"
   ]
  },
  {
   "cell_type": "markdown",
   "metadata": {
    "slideshow": {
     "slide_type": "slide"
    }
   },
   "source": [
    "## Terminal\n",
    "\n",
    "```\n",
    "curl https://api.translink.ca/rttiapi/v1/stops/55612?apikey=YOURAPIKEY\n",
    "```\n",
    "\n",
    "Want to understand `curl` more?\n",
    "https://idratherbewriting.com/learnapidoc/docapis_understand_curl.html\n"
   ]
  },
  {
   "cell_type": "markdown",
   "metadata": {
    "slideshow": {
     "slide_type": "slide"
    }
   },
   "source": [
    "**Best Practice:**\n",
    "    \n",
    "Setting an environmental variable:\n",
    "```\n",
    "export TRANSLINK_API=YOURAPIKEY\n",
    "```\n",
    "\n",
    "To check an environmental variable has been set:\n",
    "```\n",
    "echo $TRANSLINK_API\n",
    "```\n",
    "\n",
    "\n",
    "Then, I can use:\n",
    "```\n",
    "curl https://api.translink.ca/rttiapi/v1/stops/55612?apikey=$TRANSLINK_API\n",
    "```"
   ]
  },
  {
   "cell_type": "markdown",
   "metadata": {
    "slideshow": {
     "slide_type": "slide"
    }
   },
   "source": [
    "# Python"
   ]
  },
  {
   "cell_type": "code",
   "execution_count": 1,
   "metadata": {
    "slideshow": {
     "slide_type": "slide"
    }
   },
   "outputs": [
    {
     "name": "stdout",
     "output_type": "stream",
     "text": [
      "W2TxAOnBfbuGO1EnbP1b\n"
     ]
    }
   ],
   "source": [
    "# conda install -c anaconda requests\n",
    "# pip install requests\n",
    "\n",
    "import requests     # to get HTTP request\n",
    "import os           # to use environmental variables\n",
    "\n",
    "apikey = os.environ.get('TRANSLINK_API')\n",
    "print(apikey)     # to check that environmental variable has been loaded"
   ]
  },
  {
   "cell_type": "code",
   "execution_count": 8,
   "metadata": {
    "slideshow": {
     "slide_type": "slide"
    }
   },
   "outputs": [
    {
     "data": {
      "text/plain": [
       "{'StopNo': 61935,\n",
       " 'Name': 'UBC EXCHANGE BAY 7 ',\n",
       " 'BayNo': '4',\n",
       " 'City': 'VANCOUVER',\n",
       " 'OnStreet': 'UBC EXCHANGE',\n",
       " 'AtStreet': 'BAY 7',\n",
       " 'Latitude': 49.267419,\n",
       " 'Longitude': -123.246831,\n",
       " 'WheelchairAccess': 1,\n",
       " 'Distance': -1,\n",
       " 'Routes': '099'}"
      ]
     },
     "execution_count": 8,
     "metadata": {},
     "output_type": "execute_result"
    }
   ],
   "source": [
    "# example 1\n",
    "requests.get('http://api.translink.ca/rttiapi/v1/stops/61935?apikey={}'.format(apikey)\n",
    "            , headers={'accept': 'application/JSON'}).json()"
   ]
  },
  {
   "cell_type": "code",
   "execution_count": 9,
   "metadata": {
    "slideshow": {
     "slide_type": "slide"
    }
   },
   "outputs": [
    {
     "data": {
      "text/plain": [
       "[{'RouteNo': '099',\n",
       "  'RouteName': 'COMMERCIAL-BROADWAY/UBC (B-LINE)',\n",
       "  'Direction': 'EAST',\n",
       "  'RouteMap': {'Href': 'https://nb.translink.ca/geodata/099.kmz'},\n",
       "  'Schedules': [{'Pattern': 'E1',\n",
       "    'Destination': \"COMM'L-BDWAY STN\",\n",
       "    'ExpectedLeaveTime': '11:38am',\n",
       "    'ExpectedCountdown': 2,\n",
       "    'ScheduleStatus': '*',\n",
       "    'CancelledTrip': False,\n",
       "    'CancelledStop': False,\n",
       "    'AddedTrip': False,\n",
       "    'AddedStop': False,\n",
       "    'LastUpdate': '10:38:14 am'},\n",
       "   {'Pattern': 'E1',\n",
       "    'Destination': \"COMM'L-BDWAY STN\",\n",
       "    'ExpectedLeaveTime': '11:43am',\n",
       "    'ExpectedCountdown': 7,\n",
       "    'ScheduleStatus': '*',\n",
       "    'CancelledTrip': False,\n",
       "    'CancelledStop': False,\n",
       "    'AddedTrip': False,\n",
       "    'AddedStop': False,\n",
       "    'LastUpdate': '10:43:01 am'},\n",
       "   {'Pattern': 'E1',\n",
       "    'Destination': \"COMM'L-BDWAY STN\",\n",
       "    'ExpectedLeaveTime': '11:47am',\n",
       "    'ExpectedCountdown': 11,\n",
       "    'ScheduleStatus': '*',\n",
       "    'CancelledTrip': False,\n",
       "    'CancelledStop': False,\n",
       "    'AddedTrip': False,\n",
       "    'AddedStop': False,\n",
       "    'LastUpdate': '10:47:01 am'},\n",
       "   {'Pattern': 'E1',\n",
       "    'Destination': \"COMM'L-BDWAY STN\",\n",
       "    'ExpectedLeaveTime': '11:52am',\n",
       "    'ExpectedCountdown': 16,\n",
       "    'ScheduleStatus': '*',\n",
       "    'CancelledTrip': False,\n",
       "    'CancelledStop': False,\n",
       "    'AddedTrip': False,\n",
       "    'AddedStop': False,\n",
       "    'LastUpdate': '10:52:05 am'},\n",
       "   {'Pattern': 'E1',\n",
       "    'Destination': \"COMM'L-BDWAY STN\",\n",
       "    'ExpectedLeaveTime': '11:56am',\n",
       "    'ExpectedCountdown': 20,\n",
       "    'ScheduleStatus': '*',\n",
       "    'CancelledTrip': False,\n",
       "    'CancelledStop': False,\n",
       "    'AddedTrip': False,\n",
       "    'AddedStop': False,\n",
       "    'LastUpdate': '10:56:04 am'},\n",
       "   {'Pattern': 'E1',\n",
       "    'Destination': \"COMM'L-BDWAY STN\",\n",
       "    'ExpectedLeaveTime': '12:01pm',\n",
       "    'ExpectedCountdown': 25,\n",
       "    'ScheduleStatus': '*',\n",
       "    'CancelledTrip': False,\n",
       "    'CancelledStop': False,\n",
       "    'AddedTrip': False,\n",
       "    'AddedStop': False,\n",
       "    'LastUpdate': '11:01:13 am'}]}]"
      ]
     },
     "execution_count": 9,
     "metadata": {},
     "output_type": "execute_result"
    }
   ],
   "source": [
    "# example 2\n",
    "requests.get('http://api.translink.ca/rttiapi/v1/stops/61935/estimates?apikey={}'.format(apikey),\n",
    "             headers={'accept': 'application/JSON'}).json()"
   ]
  }
 ],
 "metadata": {
  "celltoolbar": "Slideshow",
  "kernelspec": {
   "display_name": "Python 3",
   "language": "python",
   "name": "python3"
  },
  "language_info": {
   "codemirror_mode": {
    "name": "ipython",
    "version": 3
   },
   "file_extension": ".py",
   "mimetype": "text/x-python",
   "name": "python",
   "nbconvert_exporter": "python",
   "pygments_lexer": "ipython3",
   "version": "3.7.0"
  }
 },
 "nbformat": 4,
 "nbformat_minor": 4
}

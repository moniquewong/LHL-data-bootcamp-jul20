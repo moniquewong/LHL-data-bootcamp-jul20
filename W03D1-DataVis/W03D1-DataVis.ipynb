{
 "cells": [
  {
   "cell_type": "markdown",
   "metadata": {
    "slideshow": {
     "slide_type": "slide"
    }
   },
   "source": [
    "# Data Visualization\n",
    "\n",
    "### August 3, 2020 | Week 3 Day 1\n",
    "### Instructor: Monique Wong\n"
   ]
  },
  {
   "cell_type": "markdown",
   "metadata": {
    "slideshow": {
     "slide_type": "slide"
    }
   },
   "source": [
    "## Agenda\n",
    "1. Why effective visualization? (5 mins)\n",
    "*  Different types of visualization (45 mins)\n",
    "*  Break (10 mins)\n",
    "*  Principles of effective visualization (60 mins)\n",
    "\n",
    "<br>\n",
    "<br>\n",
    "\n",
    "Some comments:\n",
    "- Will be a no code lecture\n",
    "- **Goal**: Show the importance of effective visualization and what is ineffective visualization\n",
    "\n",
    "\n",
    "Source for this lecture: [Fundamentals of Data Visualization](https://serialmentor.com/dataviz/index.html)"
   ]
  },
  {
   "cell_type": "markdown",
   "metadata": {
    "slideshow": {
     "slide_type": "slide"
    }
   },
   "source": [
    "## Motivation: Ugly, bad, wrong\n",
    "\n",
    "### What is wrong with these charts?\n",
    "\n",
    "<img src='imgs/ugly-bad-wrong.png' width=700>"
   ]
  },
  {
   "cell_type": "markdown",
   "metadata": {
    "slideshow": {
     "slide_type": "slide"
    }
   },
   "source": [
    "## Motivation: Ugly, bad, wrong\n",
    "\n",
    "- **ugly**: A figure that has aesthetic problems but otherwise is clear and informative.\n",
    "- **bad**: A figure that has problems related to perception; it may be unclear, confusing, overly complicated, or deceiving.\n",
    "- **wrong**: A figure that has problems related to mathematics; it is objectively incorrect."
   ]
  },
  {
   "cell_type": "markdown",
   "metadata": {
    "slideshow": {
     "slide_type": "slide"
    }
   },
   "source": [
    "## Motivation: It happens in real life too\n",
    "\n",
    "\n",
    "### What's wrong with this picture?\n",
    "\n",
    "<img src='imgs/cbc-election-results.jpg' width=800>\n",
    "\n",
    "Source: [@JohnSakaluk](https://twitter.com/JohnSakaluk/status/1186520058547171330)"
   ]
  },
  {
   "cell_type": "markdown",
   "metadata": {
    "slideshow": {
     "slide_type": "slide"
    }
   },
   "source": [
    "## Types of visualizations\n",
    "\n",
    "- **Visualizing amounts**: bar plots, grouped and stacked bars, dot plots and heatmaps\n",
    "- **Visualizing distributions**: histograms, density plots, boxplots\n",
    "- **Visualizing proportions**: bars, mosaic plots, tree maps\n",
    "- **Visualizing x-y relationships**: scatterplot, bubble chart\n",
    "- **Visualizing geospatial data**: choropleth, cartogram\n",
    "- **Multi-panel figures**\n",
    "\n",
    "\n",
    "There are a lot of types!\n",
    "\n",
    "Source: https://serialmentor.com/dataviz/directory-of-visualizations.html"
   ]
  },
  {
   "cell_type": "markdown",
   "metadata": {
    "slideshow": {
     "slide_type": "slide"
    }
   },
   "source": [
    "## Exercise:\n",
    "\n",
    "- 4 groups: distributions, proportions, x-y relationships, geospatial data\n",
    "- Pick 1 simple chart and 1 complex chart and show us:\n",
    "    - Example\n",
    "    - What would be the x/y axis\n",
    "    - What other encodings (color, size) are used\n",
    "- Presentation: 5 minutes each\n",
    "\n",
    "I'll do a demo!"
   ]
  },
  {
   "cell_type": "markdown",
   "metadata": {
    "slideshow": {
     "slide_type": "slide"
    }
   },
   "source": [
    "## Visualizing amounts\n",
    "\n",
    "### Simple\n",
    "\n",
    "<img src='imgs/amounts-1.png' width=500>\n",
    "\n",
    "- Example: Population of countries\n",
    "- For vertical bar chart (the first one on the left):\n",
    "    - x-axis: country (represents each bar)\n",
    "    - y-axis: population (represents size of bar)\n",
    "    - color: can be used to highlight a particular country I'm talking about\n",
    "\n"
   ]
  },
  {
   "cell_type": "markdown",
   "metadata": {
    "slideshow": {
     "slide_type": "slide"
    }
   },
   "source": [
    "## Visualizing amounts\n",
    "\n",
    "### More complex\n",
    "\n",
    "<img src='imgs/amounts_multi-1.png' width=500>\n",
    "\n",
    "- Example: Sales by business unit by continent\n",
    "- For vertical grouped bars (the first one on the left):\n",
    "    - x-axis: Business unit by continent, grouped by continent\n",
    "    - y-axis: Sales in USD\n",
    "    - color: Each business unit gets a different color"
   ]
  },
  {
   "cell_type": "markdown",
   "metadata": {
    "slideshow": {
     "slide_type": "slide"
    }
   },
   "source": [
    "## Exercise:\n",
    "\n",
    "- 4 groups: distributions, proportions, x-y relationships, geospatial data\n",
    "- Pick 1 simple chart and 1 complex chart and show us:\n",
    "    - Example\n",
    "    - What would be the x/y axis\n",
    "    - What other encodings (color, size) are used / can be used\n",
    "- Presentation: 5 minutes each, no need to prep slides, walk through it while on the website\n",
    "- Prep: 15 minutes, we'll reconvene at 10:45am\n",
    "- Zoom breakout groups: I'll activate and assign topics via Zoom chat and Slack\n",
    "\n",
    "Directory of Visualizations: https://serialmentor.com/dataviz/directory-of-visualizations.html"
   ]
  },
  {
   "cell_type": "markdown",
   "metadata": {
    "slideshow": {
     "slide_type": "slide"
    }
   },
   "source": [
    "## Multi-panel figures\n",
    "\n",
    "<img src='imgs/BA-degrees-variable-y-lims-1.png' width=600>\n",
    "\n",
    "* Why is this confusing?"
   ]
  },
  {
   "cell_type": "markdown",
   "metadata": {
    "slideshow": {
     "slide_type": "slide"
    }
   },
   "source": [
    "## Multi-panel figures - the fix\n",
    "\n",
    "<img src='imgs/BA-degrees-fixed-y-lims-1.png' width=600>\n",
    "\n",
    "* Here, the axes are comparable"
   ]
  },
  {
   "cell_type": "markdown",
   "metadata": {
    "slideshow": {
     "slide_type": "slide"
    }
   },
   "source": [
    "# Break - 5 mins\n",
    "\n",
    "Come back at 11:15am PT"
   ]
  },
  {
   "cell_type": "markdown",
   "metadata": {
    "slideshow": {
     "slide_type": "slide"
    }
   },
   "source": [
    "## Principles\n",
    "1.  Principle of proportional ink\n",
    "* Picking colours that have meaning\n",
    "* Use encodings to your advantage\n",
    "* Label clearly"
   ]
  },
  {
   "cell_type": "markdown",
   "metadata": {
    "slideshow": {
     "slide_type": "slide"
    }
   },
   "source": [
    "## Principle 1: Principle of proportional ink\n",
    "\n",
    "#### Example 1\n",
    "\n",
    "<img src='imgs/top10books.jpg' width=600>\n",
    "\n",
    "\n",
    "Source: [callingbullshit.org](https://callingbullshit.org/tools/tools_proportional_ink.html)"
   ]
  },
  {
   "cell_type": "markdown",
   "metadata": {
    "slideshow": {
     "slide_type": "slide"
    }
   },
   "source": [
    "## Principle 1: Principle of proportional ink\n",
    "\n",
    "#### Example 2\n",
    "\n",
    "<img src='imgs/effective_tax_rate.png' width=600>\n",
    "\n",
    "\n",
    "Source: [callingbullshit.org](https://callingbullshit.org/tools/tools_proportional_ink.html)"
   ]
  },
  {
   "cell_type": "markdown",
   "metadata": {
    "slideshow": {
     "slide_type": "slide"
    }
   },
   "source": [
    "## Principle 1: Principle of proportional ink\n",
    "\n",
    "#### Example 3\n",
    "\n",
    "<img src='imgs/operating_systems.png' width=600>\n",
    "\n",
    "\n",
    "Source: [callingbullshit.org](https://callingbullshit.org/tools/tools_proportional_ink.html)"
   ]
  },
  {
   "cell_type": "markdown",
   "metadata": {
    "slideshow": {
     "slide_type": "slide"
    }
   },
   "source": [
    "## Principle 2: Wise use of color that adds meaning\n",
    "\n",
    "#### Example 1: Using color to represent discrete items or groups that don't have an intrinsic order\n",
    "\n",
    "<img src='imgs/popgrowth-US-1.png' width=500>"
   ]
  },
  {
   "cell_type": "markdown",
   "metadata": {
    "slideshow": {
     "slide_type": "slide"
    }
   },
   "source": [
    "## Principle 2: Wise use of color that adds meaning\n",
    "\n",
    "#### Example 2: Using color to represent data values\n",
    "\n",
    "<img src='imgs/map-Texas-income-1.png' width=500>"
   ]
  },
  {
   "cell_type": "markdown",
   "metadata": {
    "slideshow": {
     "slide_type": "slide"
    }
   },
   "source": [
    "## Principle 2: Wise use of color that adds meaning\n",
    "\n",
    "#### Example 3: Using color to represent data values - divergent scale\n",
    "\n",
    "<img src='imgs/map-Texas-race-1.png' width=500>"
   ]
  },
  {
   "cell_type": "markdown",
   "metadata": {
    "slideshow": {
     "slide_type": "slide"
    }
   },
   "source": [
    "## Principle 2: Wise use of color that adds meaning\n",
    "\n",
    "#### Example 4: Using color as a tool to highlight\n",
    "\n",
    "<img src='imgs/Aus-athletes-track-1.png' width=500>"
   ]
  },
  {
   "cell_type": "markdown",
   "metadata": {
    "slideshow": {
     "slide_type": "slide"
    }
   },
   "source": [
    "## Principle 2: Wise use of color that adds meaning\n",
    "\n",
    "#### Example 5: Bad use of color\n",
    "\n",
    "<img src='imgs/popgrowth-vs-popsize-colored-1.png' width=500>"
   ]
  },
  {
   "cell_type": "markdown",
   "metadata": {
    "slideshow": {
     "slide_type": "slide"
    }
   },
   "source": [
    "## Principle 2: Wise use of color that adds meaning\n",
    "\n",
    "#### Example 6: Bad use of color\n",
    "\n",
    "<img src='imgs/popgrowth-US-rainbow-1.png' width=500>"
   ]
  },
  {
   "cell_type": "markdown",
   "metadata": {
    "slideshow": {
     "slide_type": "slide"
    }
   },
   "source": [
    "## Principle 3: Use encodings to your advantage\n",
    "- Pick the right encoding for your purpose\n",
    "\n",
    "<img src='imgs/encodings.png' width=600>\n",
    "\n",
    "Source: [Designing Data Visualizations](https://www.oreilly.com/library/view/designing-data-visualizations/9781449314774/ch04.html)"
   ]
  },
  {
   "cell_type": "markdown",
   "metadata": {
    "slideshow": {
     "slide_type": "slide"
    }
   },
   "source": [
    "## Principle 3: Use encodings to your advantage\n",
    "\n",
    "#### Example 1: Redundant encoding\n",
    "\n",
    "<img src='imgs/iris-redundant-encoding.png' width=500>"
   ]
  },
  {
   "cell_type": "markdown",
   "metadata": {
    "slideshow": {
     "slide_type": "slide"
    }
   },
   "source": [
    "## Principle 4: Label clearly\n",
    "\n",
    "#### Example 1a: Every figure needs a title\n",
    "\n",
    "\n",
    "<img src='imgs/corruption-development-1.png' width=600>\n"
   ]
  },
  {
   "cell_type": "markdown",
   "metadata": {
    "slideshow": {
     "slide_type": "slide"
    }
   },
   "source": [
    "## Principle 4: Label clearly\n",
    "\n",
    "#### Example 1b: Every figure needs a title\n",
    "\n",
    "\n",
    "<img src='imgs/corruption-development-infographic-1.png' width=600>\n"
   ]
  },
  {
   "cell_type": "markdown",
   "metadata": {
    "slideshow": {
     "slide_type": "slide"
    }
   },
   "source": [
    "## Principle 4: Label clearly\n",
    "\n",
    "#### Example 2a: Axes labels\n",
    "\n",
    "\n",
    "<img src='imgs/tech-stocks-minimal-labeling-bad-1.png' width=500>\n"
   ]
  },
  {
   "cell_type": "markdown",
   "metadata": {
    "slideshow": {
     "slide_type": "slide"
    }
   },
   "source": [
    "## Principle 4: Label clearly\n",
    "\n",
    "#### Example 2b: Axes labels\n",
    "\n",
    "\n",
    "<img src='imgs/tech-stocks-minimal-labeling-1.png' width=500>\n"
   ]
  },
  {
   "cell_type": "markdown",
   "metadata": {
    "slideshow": {
     "slide_type": "slide"
    }
   },
   "source": [
    "## Principle 4: Label clearly\n",
    "\n",
    "#### Example 3: Useful legends\n",
    "\n",
    "\n",
    "<img src='imgs/blue-jays-scatter-bubbles2-1.png' width=500>\n"
   ]
  }
 ],
 "metadata": {
  "celltoolbar": "Slideshow",
  "kernelspec": {
   "display_name": "Python 3",
   "language": "python",
   "name": "python3"
  },
  "language_info": {
   "codemirror_mode": {
    "name": "ipython",
    "version": 3
   },
   "file_extension": ".py",
   "mimetype": "text/x-python",
   "name": "python",
   "nbconvert_exporter": "python",
   "pygments_lexer": "ipython3",
   "version": "3.7.8"
  }
 },
 "nbformat": 4,
 "nbformat_minor": 4
}

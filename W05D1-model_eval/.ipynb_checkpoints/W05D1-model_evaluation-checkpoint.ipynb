{
 "cells": [
  {
   "cell_type": "markdown",
   "metadata": {
    "slideshow": {
     "slide_type": "slide"
    }
   },
   "source": [
    "# Model Evaluation\n",
    "\n",
    "### August 17, 2020 | Week 5 Day 1\n",
    "### Instructor: Monique Wong\n"
   ]
  },
  {
   "cell_type": "markdown",
   "metadata": {
    "slideshow": {
     "slide_type": "slide"
    }
   },
   "source": [
    "## Agenda\n",
    "1. Train / test split\n",
    "    - Train / validation / test\n",
    "    - Cross-validation\n",
    "* Model metrics\n",
    "    - Classification\n",
    "    - Regression\n",
    "* Hyperparameter tuning\n",
    "    - Grid Search"
   ]
  },
  {
   "cell_type": "code",
   "execution_count": 1,
   "metadata": {
    "slideshow": {
     "slide_type": "slide"
    }
   },
   "outputs": [],
   "source": [
    "import pandas as pd\n",
    "import numpy as np\n",
    "import matplotlib.pyplot as plt\n",
    "from sklearn.tree import DecisionTreeClassifier, DecisionTreeRegressor\n",
    "from sklearn.linear_model import LinearRegression\n",
    "from sklearn.preprocessing import PolynomialFeatures\n",
    "from sklearn.model_selection import train_test_split"
   ]
  },
  {
   "cell_type": "markdown",
   "metadata": {
    "slideshow": {
     "slide_type": "slide"
    }
   },
   "source": [
    "## Train / test split\n",
    "- We talked about the golden rule and why we need to do a train / test split last week\n",
    "- Let's dive a bit more into this conversation\n",
    "\n",
    "\n",
    "### Review - True or False:\n",
    "1. In supervised learning, the training error is usually lower than the validation error.\n",
    "2. More \"complicated\" models are more likely to overfit than \"simple\" ones.\n",
    "3. If we had an infinite amount of training data, overfitting would not be a problem.\n",
    "4. If our training error is extremely low, that means we're overfitting."
   ]
  },
  {
   "cell_type": "markdown",
   "metadata": {
    "slideshow": {
     "slide_type": "slide"
    }
   },
   "source": [
    "## First wrinkle: train / validation / test\n",
    "\n",
    "### We've been talking about 2 sets, but there are often 3:\n",
    "   - Training: used to learn the model\n",
    "   - Validation: used to optimize the model (e.g., hyperparameters)\n",
    "   - Testing: used to test the model (lock it in a \"vault\" until you're ready to test)\n",
    "  \n",
    "    \n",
    "### Typically we split the data twice:\n",
    "   1. Train / test split: results in the \"data we use\" and the \"data we lock away\"\n",
    "   2. Split the training set again into training and validation\n",
    "    \n",
    "**We do this so that we can use some \"lightly used\" unseen data to optimize our model.**\n"
   ]
  },
  {
   "cell_type": "markdown",
   "metadata": {
    "slideshow": {
     "slide_type": "slide"
    }
   },
   "source": [
    "## Second wrinkle: cross-validation\n",
    "\n",
    "### Drawbacks of a single train / validation split\n",
    "- Only using a portion of your data for training/validating\n",
    "- If your dataset is small you might end up with a tiny training/validation set\n",
    "- Might be unlucky with your splits such that they don't well represent your data (sampling bias)\n",
    "\n",
    "### Solution: cross-validation\n",
    "- Doing multiple train / validation splits"
   ]
  },
  {
   "cell_type": "markdown",
   "metadata": {
    "slideshow": {
     "slide_type": "slide"
    }
   },
   "source": [
    "## Cross-validation, continued...\n",
    "\n",
    "<img src='imgs/cv.png' width=\"800\">"
   ]
  },
  {
   "cell_type": "markdown",
   "metadata": {
    "slideshow": {
     "slide_type": "slide"
    }
   },
   "source": [
    "## A quick example"
   ]
  },
  {
   "cell_type": "code",
   "execution_count": 2,
   "metadata": {},
   "outputs": [
    {
     "data": {
      "text/html": [
       "<div>\n",
       "<style scoped>\n",
       "    .dataframe tbody tr th:only-of-type {\n",
       "        vertical-align: middle;\n",
       "    }\n",
       "\n",
       "    .dataframe tbody tr th {\n",
       "        vertical-align: top;\n",
       "    }\n",
       "\n",
       "    .dataframe thead th {\n",
       "        text-align: right;\n",
       "    }\n",
       "</style>\n",
       "<table border=\"1\" class=\"dataframe\">\n",
       "  <thead>\n",
       "    <tr style=\"text-align: right;\">\n",
       "      <th></th>\n",
       "      <th>lon</th>\n",
       "      <th>lat</th>\n",
       "      <th>vote</th>\n",
       "    </tr>\n",
       "  </thead>\n",
       "  <tbody>\n",
       "    <tr>\n",
       "      <th>1</th>\n",
       "      <td>-80.162475</td>\n",
       "      <td>25.692104</td>\n",
       "      <td>blue</td>\n",
       "    </tr>\n",
       "    <tr>\n",
       "      <th>2</th>\n",
       "      <td>-80.214360</td>\n",
       "      <td>25.944083</td>\n",
       "      <td>blue</td>\n",
       "    </tr>\n",
       "    <tr>\n",
       "      <th>3</th>\n",
       "      <td>-80.094133</td>\n",
       "      <td>26.234314</td>\n",
       "      <td>blue</td>\n",
       "    </tr>\n",
       "    <tr>\n",
       "      <th>4</th>\n",
       "      <td>-80.248086</td>\n",
       "      <td>26.291902</td>\n",
       "      <td>blue</td>\n",
       "    </tr>\n",
       "    <tr>\n",
       "      <th>5</th>\n",
       "      <td>-81.789963</td>\n",
       "      <td>26.348035</td>\n",
       "      <td>blue</td>\n",
       "    </tr>\n",
       "  </tbody>\n",
       "</table>\n",
       "</div>"
      ],
      "text/plain": [
       "         lon        lat  vote\n",
       "1 -80.162475  25.692104  blue\n",
       "2 -80.214360  25.944083  blue\n",
       "3 -80.094133  26.234314  blue\n",
       "4 -80.248086  26.291902  blue\n",
       "5 -81.789963  26.348035  blue"
      ]
     },
     "execution_count": 2,
     "metadata": {},
     "output_type": "execute_result"
    }
   ],
   "source": [
    "# reading in my train set (test set stored away)\n",
    "df = pd.read_csv('data/cities_USA.csv', index_col=0)\n",
    "X = df.drop(columns=['vote'])\n",
    "y = df[['vote']]\n",
    "\n",
    "df.head()"
   ]
  },
  {
   "cell_type": "code",
   "execution_count": 3,
   "metadata": {},
   "outputs": [],
   "source": [
    "# using a sample model (will dive into details on Wednesday)\n",
    "model = DecisionTreeClassifier(max_depth=1)"
   ]
  },
  {
   "cell_type": "markdown",
   "metadata": {
    "slideshow": {
     "slide_type": "slide"
    }
   },
   "source": [
    "## Using sklearn cross-validation"
   ]
  },
  {
   "cell_type": "code",
   "execution_count": 4,
   "metadata": {},
   "outputs": [],
   "source": [
    "from sklearn.model_selection import cross_val_score"
   ]
  },
  {
   "cell_type": "code",
   "execution_count": 6,
   "metadata": {},
   "outputs": [
    {
     "data": {
      "text/plain": [
       "array([0.425 , 0.4125, 0.775 , 0.5875, 0.575 ])"
      ]
     },
     "execution_count": 6,
     "metadata": {},
     "output_type": "execute_result"
    }
   ],
   "source": [
    "cv_score = cross_val_score(model, X, y, cv=5)\n",
    "cv_score"
   ]
  },
  {
   "cell_type": "code",
   "execution_count": 7,
   "metadata": {},
   "outputs": [
    {
     "name": "stdout",
     "output_type": "stream",
     "text": [
      "Average cross-validation score = 0.55\n"
     ]
    }
   ],
   "source": [
    "print(f\"Average cross-validation score = {np.mean(cv_score):.2f}\")"
   ]
  },
  {
   "cell_type": "markdown",
   "metadata": {
    "slideshow": {
     "slide_type": "slide"
    }
   },
   "source": [
    "## Next topic: model metrics\n",
    "\n",
    "Regression and classification problems use different metrics to evaluate model effectiveness. \n",
    "\n",
    "- **Classification:** Accuracy, recall, precision, confusion matrix etc. \n",
    "- **Regression:** R^2, Mean Squared Error (MSE), Root Mean Squared Error (RMSE), Mean Absolute Eror (MAE)\n",
    "\n",
    "This should make intuitive sense - you can't really have \"accuracy\" for a continuous number (regression). But you can be \"more right\" or \"more wrong\" - predicting close or far away from the true value."
   ]
  },
  {
   "cell_type": "markdown",
   "metadata": {
    "slideshow": {
     "slide_type": "slide"
    }
   },
   "source": [
    "## Classification metrics\n",
    "\n",
    "- **Accuracy**: No. of times you're right / No. of samples\n",
    "- Confusion Matrix: Gives you more detail, including how your model fails\n",
    "\n",
    "| | Actual + | Actual - |\n",
    "|-|-|-|\n",
    "|Predicted + | True Positive | False Positive | \n",
    "|Predicted - | False Negative | True Negative |\n",
    "\n",
    "- In a case of 100 examples (50 +ve, 50 -ve), 95% accuracy:\n",
    "\n",
    "| | Actual + | Actual - |\n",
    "|-|-|-|\n",
    "|Predicted + | 50| 5 | \n",
    "|Predicted - |0 | 45|\n",
    "\n",
    "| | Actual + | Actual - |\n",
    "|-|-|-|\n",
    "|Predicted + | 45| 0 | \n",
    "|Predicted - |5 | 50|"
   ]
  },
  {
   "cell_type": "markdown",
   "metadata": {
    "slideshow": {
     "slide_type": "slide"
    }
   },
   "source": [
    "## Classification metrics - thought experiment\n",
    "- Which model would you rather have predicting...\n",
    "    - **cancer diagnosis**? (positive means \"has cancer\")\n",
    "    - **spam filtering**? (positive means \"is spam\")\n",
    "    \n",
    "    \n",
    "|Model 1: False Positive | Actual + | Actual - |\n",
    "|-|-|-|\n",
    "|Predicted + | 50| 5 | \n",
    "|Predicted - |0 | 45|\n",
    "\n",
    "|Model 2: False Negative | Actual + | Actual - |\n",
    "|-|-|-|\n",
    "|Predicted + | 45| 0 | \n",
    "|Predicted - |5 | 50|\n",
    "\n",
    "**Conclusion: How your model fails matters**"
   ]
  },
  {
   "cell_type": "markdown",
   "metadata": {
    "slideshow": {
     "slide_type": "slide"
    }
   },
   "source": [
    "## Classification metrics - cheat sheet\n",
    "<img src='imgs/confusion_matrix.png'>"
   ]
  },
  {
   "cell_type": "markdown",
   "metadata": {
    "slideshow": {
     "slide_type": "slide"
    }
   },
   "source": [
    "## Using the terms\n",
    "\n",
    "### Recall: True positives / Condition positive\n",
    "- We want high recall when we don't want to miss any positive conditions\n",
    "- E.g., cancer detection, detecting harmful tailings dams\n",
    "\n",
    "### False negative rate: False negative / Condition positive\n",
    "- Probability that we miss a true condition\n",
    "- Bad if we're doing cancer diagnosis, not so bad when we're doing spam filtering\n",
    "\n",
    "### Precision: True positives / Detected or predicted positives\n",
    "- We want high precision if the machine learning model is going to trigger some automated process\n",
    "- Low precision may be OK in cancer diagnosis, just run another test\n"
   ]
  },
  {
   "cell_type": "markdown",
   "metadata": {
    "slideshow": {
     "slide_type": "slide"
    }
   },
   "source": [
    "## Getting reports from sklearn - pull up our data"
   ]
  },
  {
   "cell_type": "code",
   "execution_count": 8,
   "metadata": {
    "scrolled": true
   },
   "outputs": [
    {
     "data": {
      "text/html": [
       "<div>\n",
       "<style scoped>\n",
       "    .dataframe tbody tr th:only-of-type {\n",
       "        vertical-align: middle;\n",
       "    }\n",
       "\n",
       "    .dataframe tbody tr th {\n",
       "        vertical-align: top;\n",
       "    }\n",
       "\n",
       "    .dataframe thead th {\n",
       "        text-align: right;\n",
       "    }\n",
       "</style>\n",
       "<table border=\"1\" class=\"dataframe\">\n",
       "  <thead>\n",
       "    <tr style=\"text-align: right;\">\n",
       "      <th></th>\n",
       "      <th>lon</th>\n",
       "      <th>lat</th>\n",
       "      <th>vote</th>\n",
       "    </tr>\n",
       "  </thead>\n",
       "  <tbody>\n",
       "    <tr>\n",
       "      <th>1</th>\n",
       "      <td>-80.162475</td>\n",
       "      <td>25.692104</td>\n",
       "      <td>blue</td>\n",
       "    </tr>\n",
       "    <tr>\n",
       "      <th>2</th>\n",
       "      <td>-80.214360</td>\n",
       "      <td>25.944083</td>\n",
       "      <td>blue</td>\n",
       "    </tr>\n",
       "    <tr>\n",
       "      <th>3</th>\n",
       "      <td>-80.094133</td>\n",
       "      <td>26.234314</td>\n",
       "      <td>blue</td>\n",
       "    </tr>\n",
       "    <tr>\n",
       "      <th>4</th>\n",
       "      <td>-80.248086</td>\n",
       "      <td>26.291902</td>\n",
       "      <td>blue</td>\n",
       "    </tr>\n",
       "    <tr>\n",
       "      <th>5</th>\n",
       "      <td>-81.789963</td>\n",
       "      <td>26.348035</td>\n",
       "      <td>blue</td>\n",
       "    </tr>\n",
       "  </tbody>\n",
       "</table>\n",
       "</div>"
      ],
      "text/plain": [
       "         lon        lat  vote\n",
       "1 -80.162475  25.692104  blue\n",
       "2 -80.214360  25.944083  blue\n",
       "3 -80.094133  26.234314  blue\n",
       "4 -80.248086  26.291902  blue\n",
       "5 -81.789963  26.348035  blue"
      ]
     },
     "execution_count": 8,
     "metadata": {},
     "output_type": "execute_result"
    }
   ],
   "source": [
    "df.head()"
   ]
  },
  {
   "cell_type": "code",
   "execution_count": 9,
   "metadata": {},
   "outputs": [],
   "source": [
    "# Doing a train / validation split\n",
    "X_train, X_val, y_train, y_val = train_test_split(X, y, test_size=0.3)"
   ]
  },
  {
   "cell_type": "markdown",
   "metadata": {
    "slideshow": {
     "slide_type": "slide"
    }
   },
   "source": [
    "## Fit a model and predict on validation set"
   ]
  },
  {
   "cell_type": "code",
   "execution_count": 10,
   "metadata": {},
   "outputs": [
    {
     "data": {
      "text/plain": [
       "DecisionTreeClassifier(ccp_alpha=0.0, class_weight=None, criterion='gini',\n",
       "                       max_depth=1, max_features=None, max_leaf_nodes=None,\n",
       "                       min_impurity_decrease=0.0, min_impurity_split=None,\n",
       "                       min_samples_leaf=1, min_samples_split=2,\n",
       "                       min_weight_fraction_leaf=0.0, presort='deprecated',\n",
       "                       random_state=None, splitter='best')"
      ]
     },
     "execution_count": 10,
     "metadata": {},
     "output_type": "execute_result"
    }
   ],
   "source": [
    "model = DecisionTreeClassifier(max_depth=1)\n",
    "model.fit(X_train, y_train)"
   ]
  },
  {
   "cell_type": "code",
   "execution_count": 11,
   "metadata": {
    "scrolled": true
   },
   "outputs": [
    {
     "data": {
      "text/plain": [
       "array(['red', 'red', 'blue', 'red', 'red', 'red', 'blue', 'red', 'red',\n",
       "       'blue', 'red', 'red', 'red', 'blue', 'blue', 'red', 'red', 'red',\n",
       "       'red', 'red', 'red', 'red', 'red', 'red', 'blue', 'red', 'red',\n",
       "       'red', 'red', 'red', 'red', 'red', 'blue', 'red', 'red', 'red',\n",
       "       'blue', 'blue', 'blue', 'blue', 'red', 'blue', 'red', 'red', 'red',\n",
       "       'red', 'red', 'red', 'red', 'red', 'red', 'blue', 'red', 'blue',\n",
       "       'red', 'red', 'red', 'blue', 'red', 'blue', 'red', 'red', 'red',\n",
       "       'blue', 'red', 'red', 'red', 'blue', 'blue', 'red', 'red', 'red',\n",
       "       'red', 'red', 'red', 'red', 'red', 'red', 'red', 'red', 'red',\n",
       "       'red', 'red', 'red', 'red', 'red', 'blue', 'red', 'red', 'red',\n",
       "       'blue', 'red', 'red', 'red', 'blue', 'red', 'blue', 'red', 'blue',\n",
       "       'blue', 'red', 'red', 'red', 'red', 'red', 'red', 'red', 'blue',\n",
       "       'blue', 'blue', 'red', 'red', 'red', 'red', 'red', 'red', 'red',\n",
       "       'red', 'red', 'red'], dtype=object)"
      ]
     },
     "execution_count": 11,
     "metadata": {},
     "output_type": "execute_result"
    }
   ],
   "source": [
    "model.predict(X_val)"
   ]
  },
  {
   "cell_type": "markdown",
   "metadata": {
    "slideshow": {
     "slide_type": "slide"
    }
   },
   "source": [
    "## Confusion matrix"
   ]
  },
  {
   "cell_type": "code",
   "execution_count": 12,
   "metadata": {},
   "outputs": [],
   "source": [
    "from sklearn.metrics import plot_confusion_matrix"
   ]
  },
  {
   "cell_type": "code",
   "execution_count": 13,
   "metadata": {},
   "outputs": [
    {
     "data": {
      "image/png": "[encoded data removed]",
      "text/plain": [
       "<Figure size 432x288 with 2 Axes>"
      ]
     },
     "metadata": {
      "needs_background": "light"
     },
     "output_type": "display_data"
    }
   ],
   "source": [
    "plot_confusion_matrix(model, X_val, y_val);"
   ]
  },
  {
   "cell_type": "markdown",
   "metadata": {
    "slideshow": {
     "slide_type": "slide"
    }
   },
   "source": [
    "## Classification report"
   ]
  },
  {
   "cell_type": "code",
   "execution_count": 14,
   "metadata": {},
   "outputs": [],
   "source": [
    "from sklearn.metrics import classification_report"
   ]
  },
  {
   "cell_type": "code",
   "execution_count": 15,
   "metadata": {
    "scrolled": true
   },
   "outputs": [
    {
     "name": "stdout",
     "output_type": "stream",
     "text": [
      "              precision    recall  f1-score   support\n",
      "\n",
      "        blue       0.89      0.39      0.54        64\n",
      "         red       0.58      0.95      0.72        56\n",
      "\n",
      "    accuracy                           0.65       120\n",
      "   macro avg       0.73      0.67      0.63       120\n",
      "weighted avg       0.75      0.65      0.62       120\n",
      "\n"
     ]
    }
   ],
   "source": [
    "y_pred = model.predict(X_val)\n",
    "print(classification_report(y_val, y_pred))"
   ]
  },
  {
   "cell_type": "markdown",
   "metadata": {
    "slideshow": {
     "slide_type": "slide"
    }
   },
   "source": [
    "## Break\n",
    "\n",
    "Let's reconvene at 11:15am PT"
   ]
  },
  {
   "cell_type": "markdown",
   "metadata": {
    "slideshow": {
     "slide_type": "slide"
    }
   },
   "source": [
    "## Regression metrics\n",
    "\n",
    "| Metric | Definition | Notes |\n",
    "|:-|:-|:----|\n",
    "| Mean Squared Error | Sum of the **squared** errors divided by number of samples | Very commonly used but large errors have a disproportionate impact |\n",
    "| Root Mean Squared Error | Takes the root of the Mean Squared Error method | Same downsides, but the unit of measurement is more interpretable |\n",
    "| Mean Absolute Error | Sum of the **absolute** errors divided by number of samples | Outlier errors have less of an impact |\n",
    "\n",
    "- R^2 and Adjusted R^2 - we covered last week\n",
    "    - **R-squared** measures the proportion of the variation in your dependent variable (Y) explained by your independent variables (X)\n",
    "    - **Adjusted R-squared** adjusts the statistic based on the number of independent variables in the model\n",
    "\n",
    "\n",
    "\n"
   ]
  },
  {
   "cell_type": "markdown",
   "metadata": {
    "slideshow": {
     "slide_type": "slide"
    }
   },
   "source": [
    "## Remember this example?"
   ]
  },
  {
   "cell_type": "code",
   "execution_count": 23,
   "metadata": {},
   "outputs": [
    {
     "data": {
      "image/png": "[encoded data removed]",
      "text/plain": [
       "<Figure size 432x288 with 1 Axes>"
      ]
     },
     "metadata": {
      "needs_background": "light"
     },
     "output_type": "display_data"
    }
   ],
   "source": [
    "n = 20\n",
    "X = np.linspace(-3,3,n)\n",
    "y = X**2 + np.random.randn(n)\n",
    "\n",
    "# transforming the data to include another axis\n",
    "X = X[:, np.newaxis]\n",
    "y = y[:, np.newaxis]\n",
    "plt.scatter(X, y, color='blue');"
   ]
  },
  {
   "cell_type": "markdown",
   "metadata": {
    "slideshow": {
     "slide_type": "slide"
    }
   },
   "source": [
    "## Let's try fitting a line"
   ]
  },
  {
   "cell_type": "code",
   "execution_count": 24,
   "metadata": {
    "scrolled": true
   },
   "outputs": [
    {
     "data": {
      "image/png": "[encoded data removed]",
      "text/plain": [
       "<Figure size 432x288 with 1 Axes>"
      ]
     },
     "metadata": {
      "needs_background": "light"
     },
     "output_type": "display_data"
    }
   ],
   "source": [
    "lr = LinearRegression()\n",
    "lr.fit(X,y)\n",
    "preds = lr.predict(X)\n",
    "\n",
    "plt.scatter(X, y, color='blue')\n",
    "plt.plot(X, preds, color='red', linewidth=3);"
   ]
  },
  {
   "cell_type": "markdown",
   "metadata": {
    "slideshow": {
     "slide_type": "slide"
    }
   },
   "source": [
    "## Checking the score"
   ]
  },
  {
   "cell_type": "code",
   "execution_count": 18,
   "metadata": {},
   "outputs": [],
   "source": [
    "from sklearn.metrics import mean_squared_error, r2_score"
   ]
  },
  {
   "cell_type": "code",
   "execution_count": 25,
   "metadata": {},
   "outputs": [
    {
     "name": "stdout",
     "output_type": "stream",
     "text": [
      "Root mean squared error: 3.155 and r^2 score: 0.008\n"
     ]
    }
   ],
   "source": [
    "rmse = mean_squared_error(y, preds, squared=False)\n",
    "r2 = r2_score(y, preds)\n",
    "print(\"Root mean squared error: %0.3f and r^2 score: %0.3f\" % (rmse,r2))"
   ]
  },
  {
   "cell_type": "markdown",
   "metadata": {
    "slideshow": {
     "slide_type": "slide"
    }
   },
   "source": [
    "## Fitting a polynomial regression instead"
   ]
  },
  {
   "cell_type": "code",
   "execution_count": 26,
   "metadata": {},
   "outputs": [
    {
     "data": {
      "text/html": [
       "<div>\n",
       "<style scoped>\n",
       "    .dataframe tbody tr th:only-of-type {\n",
       "        vertical-align: middle;\n",
       "    }\n",
       "\n",
       "    .dataframe tbody tr th {\n",
       "        vertical-align: top;\n",
       "    }\n",
       "\n",
       "    .dataframe thead th {\n",
       "        text-align: right;\n",
       "    }\n",
       "</style>\n",
       "<table border=\"1\" class=\"dataframe\">\n",
       "  <thead>\n",
       "    <tr style=\"text-align: right;\">\n",
       "      <th></th>\n",
       "      <th>1</th>\n",
       "      <th>x1</th>\n",
       "      <th>x1^2</th>\n",
       "      <th>y</th>\n",
       "    </tr>\n",
       "  </thead>\n",
       "  <tbody>\n",
       "    <tr>\n",
       "      <th>0</th>\n",
       "      <td>1.0</td>\n",
       "      <td>-3.000000</td>\n",
       "      <td>9.000000</td>\n",
       "      <td>10.454972</td>\n",
       "    </tr>\n",
       "    <tr>\n",
       "      <th>1</th>\n",
       "      <td>1.0</td>\n",
       "      <td>-2.684211</td>\n",
       "      <td>7.204986</td>\n",
       "      <td>6.187553</td>\n",
       "    </tr>\n",
       "    <tr>\n",
       "      <th>2</th>\n",
       "      <td>1.0</td>\n",
       "      <td>-2.368421</td>\n",
       "      <td>5.609418</td>\n",
       "      <td>6.508365</td>\n",
       "    </tr>\n",
       "    <tr>\n",
       "      <th>3</th>\n",
       "      <td>1.0</td>\n",
       "      <td>-2.052632</td>\n",
       "      <td>4.213296</td>\n",
       "      <td>3.339522</td>\n",
       "    </tr>\n",
       "    <tr>\n",
       "      <th>4</th>\n",
       "      <td>1.0</td>\n",
       "      <td>-1.736842</td>\n",
       "      <td>3.016620</td>\n",
       "      <td>5.567746</td>\n",
       "    </tr>\n",
       "  </tbody>\n",
       "</table>\n",
       "</div>"
      ],
      "text/plain": [
       "     1        x1      x1^2          y\n",
       "0  1.0 -3.000000  9.000000  10.454972\n",
       "1  1.0 -2.684211  7.204986   6.187553\n",
       "2  1.0 -2.368421  5.609418   6.508365\n",
       "3  1.0 -2.052632  4.213296   3.339522\n",
       "4  1.0 -1.736842  3.016620   5.567746"
      ]
     },
     "execution_count": 26,
     "metadata": {},
     "output_type": "execute_result"
    }
   ],
   "source": [
    "deg = 2\n",
    "poly_feats = PolynomialFeatures(degree=deg)\n",
    "X_deg = poly_feats.fit_transform(X)\n",
    "X_poly_feat_names = poly_feats.get_feature_names(['x'+ str(i) for i in range(1,deg)])\n",
    "df_poly = pd.DataFrame(X_deg, columns=X_poly_feat_names)\n",
    "df_poly['y'] = y\n",
    "df_poly.head()"
   ]
  },
  {
   "cell_type": "markdown",
   "metadata": {
    "slideshow": {
     "slide_type": "slide"
    }
   },
   "source": [
    "## Here's what our fit looks like"
   ]
  },
  {
   "cell_type": "code",
   "execution_count": 27,
   "metadata": {
    "scrolled": true
   },
   "outputs": [
    {
     "data": {
      "image/png": "[encoded data removed]",
      "text/plain": [
       "<Figure size 432x288 with 1 Axes>"
      ]
     },
     "metadata": {
      "needs_background": "light"
     },
     "output_type": "display_data"
    }
   ],
   "source": [
    "lr_poly = LinearRegression()\n",
    "lr_poly.fit(X_deg, y)\n",
    "preds = lr_poly.predict(X_deg)\n",
    "plt.scatter(X, y, color='blue')\n",
    "plt.plot(X, preds, color='green', linewidth=3);"
   ]
  },
  {
   "cell_type": "markdown",
   "metadata": {
    "slideshow": {
     "slide_type": "slide"
    }
   },
   "source": [
    "## Getting the scores ... a lot better!"
   ]
  },
  {
   "cell_type": "code",
   "execution_count": 28,
   "metadata": {},
   "outputs": [
    {
     "name": "stdout",
     "output_type": "stream",
     "text": [
      "Root mean squared error: 0.784 and r^2 score: 0.939\n"
     ]
    }
   ],
   "source": [
    "rmse = mean_squared_error(y, preds, squared=False)\n",
    "r2 = r2_score(y, preds)\n",
    "print(\"Root mean squared error: %0.3f and r^2 score: %0.3f\" % (rmse,r2))"
   ]
  },
  {
   "cell_type": "markdown",
   "metadata": {
    "slideshow": {
     "slide_type": "slide"
    }
   },
   "source": [
    "## Final topic: hyperparameter tuning\n",
    "- Each machine learning algorithm has \"hyperparameters\" you can adjust\n",
    "- Think of them like additional knobs that you can finetune, given the algorithm\n",
    "- In decision trees, for example, the depth of the tree is a hyperparameter (more on this on Weds)\n",
    "\n",
    "### To be clear:\n",
    "- **parameters** are automatically learned by the algorithm during training (e.g., weights)\n",
    "- **hyperparameters** are specified based on:\n",
    "    - expert knowledge\n",
    "    - heuristics, or \n",
    "    - systematic/automated optimization"
   ]
  },
  {
   "cell_type": "markdown",
   "metadata": {
    "slideshow": {
     "slide_type": "slide"
    }
   },
   "source": [
    "## Hyperparameter tuning - how?\n",
    "- Trial and error\n",
    "- Some common and simple techniques: grid search, random search\n",
    "- Some more complicated techniques (will not cover): Bayesian hyperparameter optimization, genetic algorithms"
   ]
  },
  {
   "cell_type": "markdown",
   "metadata": {
    "slideshow": {
     "slide_type": "slide"
    }
   },
   "source": [
    "## Seeing grid search in action"
   ]
  },
  {
   "cell_type": "code",
   "execution_count": 34,
   "metadata": {},
   "outputs": [],
   "source": [
    "from sklearn.model_selection import GridSearchCV"
   ]
  },
  {
   "cell_type": "code",
   "execution_count": 29,
   "metadata": {
    "scrolled": true
   },
   "outputs": [
    {
     "data": {
      "text/html": [
       "<div>\n",
       "<style scoped>\n",
       "    .dataframe tbody tr th:only-of-type {\n",
       "        vertical-align: middle;\n",
       "    }\n",
       "\n",
       "    .dataframe tbody tr th {\n",
       "        vertical-align: top;\n",
       "    }\n",
       "\n",
       "    .dataframe thead th {\n",
       "        text-align: right;\n",
       "    }\n",
       "</style>\n",
       "<table border=\"1\" class=\"dataframe\">\n",
       "  <thead>\n",
       "    <tr style=\"text-align: right;\">\n",
       "      <th></th>\n",
       "      <th>lon</th>\n",
       "      <th>lat</th>\n",
       "      <th>vote</th>\n",
       "    </tr>\n",
       "  </thead>\n",
       "  <tbody>\n",
       "    <tr>\n",
       "      <th>1</th>\n",
       "      <td>-80.162475</td>\n",
       "      <td>25.692104</td>\n",
       "      <td>blue</td>\n",
       "    </tr>\n",
       "    <tr>\n",
       "      <th>2</th>\n",
       "      <td>-80.214360</td>\n",
       "      <td>25.944083</td>\n",
       "      <td>blue</td>\n",
       "    </tr>\n",
       "    <tr>\n",
       "      <th>3</th>\n",
       "      <td>-80.094133</td>\n",
       "      <td>26.234314</td>\n",
       "      <td>blue</td>\n",
       "    </tr>\n",
       "    <tr>\n",
       "      <th>4</th>\n",
       "      <td>-80.248086</td>\n",
       "      <td>26.291902</td>\n",
       "      <td>blue</td>\n",
       "    </tr>\n",
       "    <tr>\n",
       "      <th>5</th>\n",
       "      <td>-81.789963</td>\n",
       "      <td>26.348035</td>\n",
       "      <td>blue</td>\n",
       "    </tr>\n",
       "  </tbody>\n",
       "</table>\n",
       "</div>"
      ],
      "text/plain": [
       "         lon        lat  vote\n",
       "1 -80.162475  25.692104  blue\n",
       "2 -80.214360  25.944083  blue\n",
       "3 -80.094133  26.234314  blue\n",
       "4 -80.248086  26.291902  blue\n",
       "5 -81.789963  26.348035  blue"
      ]
     },
     "execution_count": 29,
     "metadata": {},
     "output_type": "execute_result"
    }
   ],
   "source": [
    "df = pd.read_csv('data/cities_USA.csv', index_col=0)\n",
    "X = df.drop(columns=['vote'])\n",
    "y = df[['vote']]\n",
    "\n",
    "df.head()"
   ]
  },
  {
   "cell_type": "markdown",
   "metadata": {
    "slideshow": {
     "slide_type": "slide"
    }
   },
   "source": [
    "## Running grid search"
   ]
  },
  {
   "cell_type": "code",
   "execution_count": 30,
   "metadata": {},
   "outputs": [],
   "source": [
    "model = DecisionTreeClassifier()"
   ]
  },
  {
   "cell_type": "code",
   "execution_count": 38,
   "metadata": {},
   "outputs": [
    {
     "data": {
      "text/plain": [
       "array([ 1,  4,  7, 10, 13, 16, 19, 22, 25, 28, 31, 34, 37, 40, 43, 46, 49])"
      ]
     },
     "execution_count": 38,
     "metadata": {},
     "output_type": "execute_result"
    }
   ],
   "source": [
    "np.arange(1, 50, 3)"
   ]
  },
  {
   "cell_type": "code",
   "execution_count": 39,
   "metadata": {},
   "outputs": [],
   "source": [
    "param_grid = {\n",
    "    'max_depth': np.arange(1, 50, 3)\n",
    "}"
   ]
  },
  {
   "cell_type": "code",
   "execution_count": 43,
   "metadata": {
    "scrolled": true
   },
   "outputs": [
    {
     "data": {
      "text/plain": [
       "GridSearchCV(cv=10, error_score=nan,\n",
       "             estimator=DecisionTreeClassifier(ccp_alpha=0.0, class_weight=None,\n",
       "                                              criterion='gini', max_depth=None,\n",
       "                                              max_features=None,\n",
       "                                              max_leaf_nodes=None,\n",
       "                                              min_impurity_decrease=0.0,\n",
       "                                              min_impurity_split=None,\n",
       "                                              min_samples_leaf=1,\n",
       "                                              min_samples_split=2,\n",
       "                                              min_weight_fraction_leaf=0.0,\n",
       "                                              presort='deprecated',\n",
       "                                              random_state=None,\n",
       "                                              splitter='best'),\n",
       "             iid='deprecated', n_jobs=None,\n",
       "             param_grid={'max_depth': array([ 1,  4,  7, 10, 13, 16, 19, 22, 25, 28, 31, 34, 37, 40, 43, 46, 49])},\n",
       "             pre_dispatch='2*n_jobs', refit=True, return_train_score=False,\n",
       "             scoring=None, verbose=0)"
      ]
     },
     "execution_count": 43,
     "metadata": {},
     "output_type": "execute_result"
    }
   ],
   "source": [
    "grid_search = GridSearchCV(model, param_grid, cv=10)\n",
    "grid_search.fit(X, y)"
   ]
  },
  {
   "cell_type": "markdown",
   "metadata": {
    "slideshow": {
     "slide_type": "slide"
    }
   },
   "source": [
    "## Grid search results"
   ]
  },
  {
   "cell_type": "code",
   "execution_count": 44,
   "metadata": {},
   "outputs": [
    {
     "name": "stdout",
     "output_type": "stream",
     "text": [
      "Best decision tree from grid search: 1.000\n"
     ]
    }
   ],
   "source": [
    "print((\"Best decision tree from grid search: %.3f\"\n",
    "       % grid_search.score(X, y)))"
   ]
  },
  {
   "cell_type": "code",
   "execution_count": 45,
   "metadata": {},
   "outputs": [
    {
     "data": {
      "text/plain": [
       "{'max_depth': 46}"
      ]
     },
     "execution_count": 45,
     "metadata": {},
     "output_type": "execute_result"
    }
   ],
   "source": [
    "grid_search.best_params_"
   ]
  },
  {
   "cell_type": "markdown",
   "metadata": {
    "slideshow": {
     "slide_type": "slide"
    }
   },
   "source": [
    "## Recap\n",
    "1. Train / test split\n",
    "    - Train / validation / test\n",
    "    - Cross-validation\n",
    "* Model metrics\n",
    "    - Classification\n",
    "    - Regression\n",
    "* Hyperparameter tuning\n",
    "    - Grid Search"
   ]
  }
 ],
 "metadata": {
  "celltoolbar": "Slideshow",
  "kernelspec": {
   "display_name": "Python 3",
   "language": "python",
   "name": "python3"
  },
  "language_info": {
   "codemirror_mode": {
    "name": "ipython",
    "version": 3
   },
   "file_extension": ".py",
   "mimetype": "text/x-python",
   "name": "python",
   "nbconvert_exporter": "python",
   "pygments_lexer": "ipython3",
   "version": "3.7.8"
  }
 },
 "nbformat": 4,
 "nbformat_minor": 4
}

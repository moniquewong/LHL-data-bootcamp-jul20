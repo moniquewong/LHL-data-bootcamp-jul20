{
 "cells": [
  {
   "cell_type": "markdown",
   "metadata": {
    "slideshow": {
     "slide_type": "slide"
    }
   },
   "source": [
    "# Welcome to Midterm Project\n",
    "\n",
    "### August 21, 2020 | Week 5 Day 5\n",
    "### Instructor: Monique Wong\n"
   ]
  },
  {
   "cell_type": "markdown",
   "metadata": {
    "slideshow": {
     "slide_type": "slide"
    }
   },
   "source": [
    "## Agenda\n",
    "1. Project Management for Data Science\n",
    "    - GitHub for version control\n",
    "    - GitHub for communication\n",
    "    - GitHub for collaboration & workflows\n",
    "* Communication and team norms\n",
    "* Final presentation tips\n",
    "* Intro to Midterm Project\n",
    "* Breakout groups to get you started"
   ]
  },
  {
   "cell_type": "markdown",
   "metadata": {
    "slideshow": {
     "slide_type": "slide"
    }
   },
   "source": [
    "## Why project management for data science?\n",
    "\n",
    "1. Make it easier to collaborate\n",
    "* Make it easier for any of your future selves to pick up on the project\n",
    "* Make it easier for someone else in the organization to pick up the project\n",
    "\n",
    "<img src='imgs/life-of-a-ds.png' width=600>"
   ]
  },
  {
   "cell_type": "markdown",
   "metadata": {
    "slideshow": {
     "slide_type": "slide"
    }
   },
   "source": [
    "## Use GitHub for version control\n",
    "- Show example: https://github.com/UBC-MDS/PyDataPeek\n",
    "- Releases and commits are both good ways to keep track of old versions of code\n",
    "- Sometimes you know something in an old version worked but you can't recreate it anymore\n",
    "- Making regular commits helps avoid this problem\n",
    "- **COMMIT YOUR WORK AT LEAST EVERY DAY**\n",
    "\n",
    "\n",
    "### Resources:\n",
    "- Create a release: https://docs.github.com/en/github/administering-a-repository/managing-releases-in-a-repository\n",
    "- Finding a commit: https://docs.github.com/en/github/searching-for-information-on-github/searching-commits"
   ]
  },
  {
   "cell_type": "markdown",
   "metadata": {
    "slideshow": {
     "slide_type": "slide"
    }
   },
   "source": [
    "## Use GitHub for communication\n",
    "- **GitHub Issues**: Use this to keep track of tasks that need to be done and ongoing discussions\n",
    "- **GitHub Project**: Kanban board set up (to do / in progress / done cards)\n",
    "- **Recommend teams use this to assign tasks and keep track of progress**\n",
    "\n",
    "### Resources:\n",
    "- GitHub Issues and Project: https://docs.github.com/en/enterprise/2.15/user/articles/creating-an-issue"
   ]
  },
  {
   "cell_type": "markdown",
   "metadata": {
    "slideshow": {
     "slide_type": "slide"
    }
   },
   "source": [
    "## Use GitHub for collaboration\n",
    "- Adopt Git Feature Branch Workflow (there are other models, but this makes the most sense for teams of data scientist working on one project)\n",
    "- Key idea:\n",
    "    - Each task gets their own branch with one person working on that branch\n",
    "    - The branch is built off of the master branch\n",
    "    - Changes to the code are pushed only to the branch\n",
    "    - When sufficient changes have been made (many commits later), a pull request is made to merge the branch into the main branch\n",
    "    - The main branch gets updated\n",
    "    - Other branches can fetch the updates from the main branch\n",
    "\n",
    "\n",
    "### Resources:\n",
    "- Git Feature Branch Workflow: https://www.atlassian.com/git/tutorials/comparing-workflows/feature-branch-workflow"
   ]
  },
  {
   "cell_type": "markdown",
   "metadata": {
    "slideshow": {
     "slide_type": "slide"
    }
   },
   "source": [
    "## Communication within the team\n",
    "- Meet for a reason and come prepared to meetings\n",
    "- Decide how often to meet and what agenda is going to be in advance\n",
    "- Suggestion: meet at least once every day, maybe in the morning\n",
    "    - Discuss what was done in the previous day\n",
    "    - Tasks for the upcoming day\n",
    "- Use GitHub issues to stay organized"
   ]
  },
  {
   "cell_type": "markdown",
   "metadata": {
    "slideshow": {
     "slide_type": "slide"
    }
   },
   "source": [
    "## Final presentation\n",
    "- Use tables and other visualizations to explain your project\n",
    "- For each slide, think about what the key takeaway is\n",
    "\n",
    "Remember, even if you spent a lot of time on it, it doesn't mean it's important or relevant to the audience"
   ]
  },
  {
   "cell_type": "markdown",
   "metadata": {
    "slideshow": {
     "slide_type": "slide"
    }
   },
   "source": [
    "## Intro to midterm project\n",
    "\n",
    "Repo is here: https://github.com/lighthouse-labs/mid-term_project"
   ]
  },
  {
   "cell_type": "markdown",
   "metadata": {
    "slideshow": {
     "slide_type": "slide"
    }
   },
   "source": [
    "## Project evaluation\n",
    "- Prediction scores on out of sample data (predict first week of flights for January 2020)\n",
    "- Presentation (next Friday)\n",
    "- Code review"
   ]
  },
  {
   "cell_type": "markdown",
   "metadata": {
    "slideshow": {
     "slide_type": "slide"
    }
   },
   "source": [
    "## Some advice\n",
    "- Have fun!\n",
    "- Try to incorporate what you've learned about the ML workflow into this project\n",
    "- Stay organized\n",
    "- Set milestones from at the beginning so that you can gauge progress later\n",
    "- Set boundaries with your project partner about working hours, meetings, responsiveness\n",
    "- Reach out to mentors for help throughout the week"
   ]
  },
  {
   "cell_type": "markdown",
   "metadata": {
    "slideshow": {
     "slide_type": "slide"
    }
   },
   "source": [
    "## Breakout to get you started\n",
    "1. Discuss team norms and meeting times\n",
    "* Go through project requirements\n",
    "* Create a timeline and divide up tasks\n",
    "* Set up project GitHub repo\n",
    "\n",
    "### Teams:\n",
    "- Carly & David\n",
    "- Jewelle & Jesse\n",
    "- Temi & Richard\n",
    "- Sean & Safwaan\n",
    "- Jason & Jack"
   ]
  }
 ],
 "metadata": {
  "celltoolbar": "Slideshow",
  "kernelspec": {
   "display_name": "Python 3",
   "language": "python",
   "name": "python3"
  },
  "language_info": {
   "codemirror_mode": {
    "name": "ipython",
    "version": 3
   },
   "file_extension": ".py",
   "mimetype": "text/x-python",
   "name": "python",
   "nbconvert_exporter": "python",
   "pygments_lexer": "ipython3",
   "version": "3.7.8"
  }
 },
 "nbformat": 4,
 "nbformat_minor": 4
}
